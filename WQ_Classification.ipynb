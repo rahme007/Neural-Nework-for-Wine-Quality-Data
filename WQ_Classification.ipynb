{
 "cells": [
  {
   "cell_type": "markdown",
   "metadata": {
    "id": "vB3bHSucPIVs"
   },
   "source": [
    "Abbreviated data preparation for the Wine Quality Problem (Project 1)"
   ]
  },
  {
   "cell_type": "code",
   "execution_count": 1,
   "metadata": {
    "executionInfo": {
     "elapsed": 3247,
     "status": "ok",
     "timestamp": 1616267445714,
     "user": {
      "displayName": "Rafi Ahmed",
      "photoUrl": "",
      "userId": "10177168856407500033"
     },
     "user_tz": 240
    },
    "id": "XrcPuh9-KY0j"
   },
   "outputs": [],
   "source": [
    "\n",
    "# Import Required Libraries  \n",
    "import matplotlib.pyplot as plt \n",
    "import numpy as np \n",
    "# This time we need to also import pandas\n",
    "import pandas as pd \n",
    "\n",
    "# Read in white wine data \n",
    "# USES PANDAS (pd) to create a PANDAS DataFrame OBJECT:\n",
    "white = pd.read_csv(\"http://archive.ics.uci.edu/ml/machine-learning-databases/wine-quality/winequality-white.csv\", sep =';') \n",
    "\n",
    "# Read in red wine data \n",
    "# USES PANDAS (pd) to create a PANDAS DataFrame OBJECT:\n",
    "red = pd.read_csv(\"http://archive.ics.uci.edu/ml/machine-learning-databases/wine-quality/winequality-red.csv\", sep =';') \n",
    "\n",
    "# Add `type` column to `red` with price one \n",
    "red['type'] = 1\n",
    "  \n",
    "# Add `type` column to `white` with price zero \n",
    "white['type'] = 0\n",
    "  \n",
    "# Append `white` to `red` \n",
    "# AFTER THIS WE HAVE ALL WINES (red and white) in a SINGLE pandas DataFrame\n",
    "wines = red.append(white, ignore_index = True) \n",
    "\n",
    "# Import SKLEARN\n",
    "import sklearn\n",
    "# Import `train_test_split` from `sklearn.model_selection` \n",
    "from sklearn.model_selection import train_test_split \n",
    "\n",
    "# Specify the  data - \n",
    "X1 = wines.iloc[:, 0:11]\n",
    "X2 = wines.iloc[:,12]\n",
    "X = pd.concat([X1,X2],axis = 1)\n",
    "\n",
    "# Specify the QUALITY target labels and flatten the array \n",
    "y = np.ravel(wines.quality) \n",
    "\n",
    "# Splitting the data set for training and validating  \n",
    "X_train, X_val, y_train, y_val = train_test_split( \n",
    "                 X, y, test_size = 0.25, random_state = 45) \n",
    "\n",
    "# CONVERTING X_train & X_test DataFrame s to TF tensors\n",
    "# import tensorflow as tf \n",
    "\n",
    "Xtrain = X_train.to_numpy()\n",
    "Xval = X_val.to_numpy()\n",
    "\n",
    " # NOW, IN ADDITION, CREATE THE TARGETS AS ONE-HOT-ENCODED 3 quality LEVELS"
   ]
  },
  {
   "cell_type": "code",
   "execution_count": 2,
   "metadata": {
    "colab": {
     "base_uri": "https://localhost:8080/"
    },
    "executionInfo": {
     "elapsed": 427,
     "status": "ok",
     "timestamp": 1616267449857,
     "user": {
      "displayName": "Rafi Ahmed",
      "photoUrl": "",
      "userId": "10177168856407500033"
     },
     "user_tz": 240
    },
    "id": "HImrn2sHKvz_",
    "outputId": "89df361b-addc-4952-e92d-e34b16ea7245"
   },
   "outputs": [
    {
     "data": {
      "text/plain": [
       "array([5, 4, 6, 5, 5, 6, 7, 6, 5, 8, 5])"
      ]
     },
     "execution_count": 2,
     "metadata": {
      "tags": []
     },
     "output_type": "execute_result"
    }
   ],
   "source": [
    "y_train[272:283]"
   ]
  },
  {
   "cell_type": "code",
   "execution_count": 3,
   "metadata": {
    "executionInfo": {
     "elapsed": 433,
     "status": "ok",
     "timestamp": 1616267450824,
     "user": {
      "displayName": "Rafi Ahmed",
      "photoUrl": "",
      "userId": "10177168856407500033"
     },
     "user_tz": 240
    },
    "id": "or6-RKTFKOMw"
   },
   "outputs": [],
   "source": [
    " # First create rank-1 arrays where 3,4,5,6,7,8,9 are mapped to 1 or 2 or 3\n",
    "yt1 = (y_train -4) /3\n",
    "yt2 = (  ( yt1 + abs(yt1) ) /2 )\n",
    "yt3 = (np.ceil(yt2)) + 1\n",
    "train_labels = yt3.astype(int)\n",
    "\n",
    "yv1 = (y_val -4) /3\n",
    "yv2 = (  ( yv1 + abs(yv1) ) /2 )\n",
    "yv3 = (np.ceil(yv2)) + 1\n",
    "val_labels = yv3.astype(int)"
   ]
  },
  {
   "cell_type": "code",
   "execution_count": 4,
   "metadata": {
    "colab": {
     "base_uri": "https://localhost:8080/"
    },
    "executionInfo": {
     "elapsed": 741,
     "status": "ok",
     "timestamp": 1616267452589,
     "user": {
      "displayName": "Rafi Ahmed",
      "photoUrl": "",
      "userId": "10177168856407500033"
     },
     "user_tz": 240
    },
    "id": "RmSc8yQ5NgQe",
    "outputId": "25d0d0e0-09a2-405e-9694-5f5f8c1c48f2"
   },
   "outputs": [
    {
     "data": {
      "text/plain": [
       "array([2, 1, 2, 2, 2, 2, 2, 2, 2, 3, 2])"
      ]
     },
     "execution_count": 4,
     "metadata": {
      "tags": []
     },
     "output_type": "execute_result"
    }
   ],
   "source": [
    "train_labels[272:283]"
   ]
  },
  {
   "cell_type": "code",
   "execution_count": 5,
   "metadata": {
    "colab": {
     "base_uri": "https://localhost:8080/"
    },
    "executionInfo": {
     "elapsed": 249,
     "status": "ok",
     "timestamp": 1616267452792,
     "user": {
      "displayName": "Rafi Ahmed",
      "photoUrl": "",
      "userId": "10177168856407500033"
     },
     "user_tz": 240
    },
    "id": "Cs-J7sRmKhGf",
    "outputId": "23031d67-57b2-49ae-a7cb-f9618c3d343e"
   },
   "outputs": [
    {
     "data": {
      "text/plain": [
       "array([[0., 1., 0.],\n",
       "       [1., 0., 0.],\n",
       "       [0., 1., 0.],\n",
       "       [0., 1., 0.],\n",
       "       [0., 1., 0.],\n",
       "       [0., 1., 0.],\n",
       "       [0., 1., 0.],\n",
       "       [0., 1., 0.],\n",
       "       [0., 1., 0.],\n",
       "       [0., 0., 1.],\n",
       "       [0., 1., 0.]])"
      ]
     },
     "execution_count": 5,
     "metadata": {
      "tags": []
     },
     "output_type": "execute_result"
    }
   ],
   "source": [
    "# NOW, ONE-HOT ENCODING OF BOTH TARGET ARRAYS\n",
    "# define a function to do the one-hot-encoding of output labels\n",
    "\n",
    "def to_one_hot(labels, dimension=3):\n",
    "    results = np.zeros((len(labels), dimension))\n",
    "    for i, label in enumerate(labels-1):\n",
    "        results[i, label] = 1.\n",
    "    return results\n",
    "\n",
    "one_hot_train_labels = to_one_hot(train_labels)\n",
    "one_hot_val_labels = to_one_hot(val_labels)\n",
    "\n",
    "# SO, AFTER EXECUTING THIS CELL, YOU WILL HAVE:\n",
    "# FOR TRAINING:\n",
    "#   Xtrain (4872, 12) ... y_train (4872,) ... one_hot_train_labels (4872,3)\n",
    " # FOR VALIDATING:\n",
    "#   Xval (1625, 12) ... y_val (1625,) ... one_hot_val_labels (1625,3)\n",
    "\n",
    "one_hot_train_labels[272:283,]"
   ]
  },
  {
   "cell_type": "code",
   "execution_count": 118,
   "metadata": {
    "colab": {
     "base_uri": "https://localhost:8080/",
     "height": 195
    },
    "executionInfo": {
     "elapsed": 632,
     "status": "ok",
     "timestamp": 1616217964357,
     "user": {
      "displayName": "Rafi Ahmed",
      "photoUrl": "",
      "userId": "10177168856407500033"
     },
     "user_tz": 240
    },
    "id": "V2eibNgmEhsy",
    "outputId": "b554c5fa-5592-4d7c-e16a-688b0a8140fc"
   },
   "outputs": [
    {
     "data": {
      "text/html": [
       "<div>\n",
       "<style scoped>\n",
       "    .dataframe tbody tr th:only-of-type {\n",
       "        vertical-align: middle;\n",
       "    }\n",
       "\n",
       "    .dataframe tbody tr th {\n",
       "        vertical-align: top;\n",
       "    }\n",
       "\n",
       "    .dataframe thead th {\n",
       "        text-align: right;\n",
       "    }\n",
       "</style>\n",
       "<table border=\"1\" class=\"dataframe\">\n",
       "  <thead>\n",
       "    <tr style=\"text-align: right;\">\n",
       "      <th></th>\n",
       "      <th>fixed acidity</th>\n",
       "      <th>volatile acidity</th>\n",
       "      <th>citric acid</th>\n",
       "      <th>residual sugar</th>\n",
       "      <th>chlorides</th>\n",
       "      <th>free sulfur dioxide</th>\n",
       "      <th>total sulfur dioxide</th>\n",
       "      <th>density</th>\n",
       "      <th>pH</th>\n",
       "      <th>sulphates</th>\n",
       "      <th>alcohol</th>\n",
       "      <th>quality</th>\n",
       "      <th>type</th>\n",
       "    </tr>\n",
       "  </thead>\n",
       "  <tbody>\n",
       "    <tr>\n",
       "      <th>337</th>\n",
       "      <td>5.8</td>\n",
       "      <td>0.27</td>\n",
       "      <td>0.27</td>\n",
       "      <td>12.30</td>\n",
       "      <td>0.045</td>\n",
       "      <td>55.0</td>\n",
       "      <td>170.0</td>\n",
       "      <td>0.99720</td>\n",
       "      <td>3.28</td>\n",
       "      <td>0.42</td>\n",
       "      <td>9.3</td>\n",
       "      <td>6</td>\n",
       "      <td>0</td>\n",
       "    </tr>\n",
       "    <tr>\n",
       "      <th>1285</th>\n",
       "      <td>7.8</td>\n",
       "      <td>0.16</td>\n",
       "      <td>0.41</td>\n",
       "      <td>1.70</td>\n",
       "      <td>0.026</td>\n",
       "      <td>29.0</td>\n",
       "      <td>140.0</td>\n",
       "      <td>0.99100</td>\n",
       "      <td>3.02</td>\n",
       "      <td>0.78</td>\n",
       "      <td>12.5</td>\n",
       "      <td>6</td>\n",
       "      <td>0</td>\n",
       "    </tr>\n",
       "    <tr>\n",
       "      <th>169</th>\n",
       "      <td>9.8</td>\n",
       "      <td>0.42</td>\n",
       "      <td>0.48</td>\n",
       "      <td>9.85</td>\n",
       "      <td>0.034</td>\n",
       "      <td>5.0</td>\n",
       "      <td>110.0</td>\n",
       "      <td>0.99580</td>\n",
       "      <td>2.87</td>\n",
       "      <td>0.29</td>\n",
       "      <td>10.0</td>\n",
       "      <td>5</td>\n",
       "      <td>0</td>\n",
       "    </tr>\n",
       "    <tr>\n",
       "      <th>1845</th>\n",
       "      <td>7.4</td>\n",
       "      <td>0.44</td>\n",
       "      <td>0.20</td>\n",
       "      <td>11.50</td>\n",
       "      <td>0.049</td>\n",
       "      <td>44.0</td>\n",
       "      <td>157.0</td>\n",
       "      <td>0.99800</td>\n",
       "      <td>3.27</td>\n",
       "      <td>0.44</td>\n",
       "      <td>9.0</td>\n",
       "      <td>5</td>\n",
       "      <td>0</td>\n",
       "    </tr>\n",
       "    <tr>\n",
       "      <th>2763</th>\n",
       "      <td>7.7</td>\n",
       "      <td>0.30</td>\n",
       "      <td>0.34</td>\n",
       "      <td>1.20</td>\n",
       "      <td>0.048</td>\n",
       "      <td>4.0</td>\n",
       "      <td>119.0</td>\n",
       "      <td>0.99084</td>\n",
       "      <td>3.18</td>\n",
       "      <td>0.34</td>\n",
       "      <td>12.1</td>\n",
       "      <td>6</td>\n",
       "      <td>0</td>\n",
       "    </tr>\n",
       "  </tbody>\n",
       "</table>\n",
       "</div>"
      ],
      "text/plain": [
       "      fixed acidity  volatile acidity  citric acid  ...  alcohol  quality  type\n",
       "337             5.8              0.27         0.27  ...      9.3        6     0\n",
       "1285            7.8              0.16         0.41  ...     12.5        6     0\n",
       "169             9.8              0.42         0.48  ...     10.0        5     0\n",
       "1845            7.4              0.44         0.20  ...      9.0        5     0\n",
       "2763            7.7              0.30         0.34  ...     12.1        6     0\n",
       "\n",
       "[5 rows x 13 columns]"
      ]
     },
     "execution_count": 118,
     "metadata": {
      "tags": []
     },
     "output_type": "execute_result"
    }
   ],
   "source": [
    "white.sample(5)"
   ]
  },
  {
   "cell_type": "code",
   "execution_count": 6,
   "metadata": {
    "executionInfo": {
     "elapsed": 2141,
     "status": "ok",
     "timestamp": 1616267457980,
     "user": {
      "displayName": "Rafi Ahmed",
      "photoUrl": "",
      "userId": "10177168856407500033"
     },
     "user_tz": 240
    },
    "id": "t2WVDQiFEhsz"
   },
   "outputs": [],
   "source": [
    "from keras import models\n",
    "from keras import layers\n",
    "\n",
    "def clasmodl1():\n",
    "  model = models.Sequential()\n",
    "  model.add(layers.Dense(64, activation='relu', input_shape=(Xtrain.shape[1],)))\n",
    "  #model.add(layers.Dense(16, activation='relu'))\n",
    "  model.add(layers.Dense(3, activation='softmax'))\n",
    "  model.compile(optimizer='rmsprop', loss='categorical_crossentropy', metrics=['accuracy'])\n",
    "  return model"
   ]
  },
  {
   "cell_type": "code",
   "execution_count": 7,
   "metadata": {
    "colab": {
     "base_uri": "https://localhost:8080/"
    },
    "executionInfo": {
     "elapsed": 489728,
     "status": "ok",
     "timestamp": 1616267947503,
     "user": {
      "displayName": "Rafi Ahmed",
      "photoUrl": "",
      "userId": "10177168856407500033"
     },
     "user_tz": 240
    },
    "id": "MSKxNgVdEhsz",
    "outputId": "43b47648-1204-4093-a67e-31d2976d1a41"
   },
   "outputs": [
    {
     "name": "stdout",
     "output_type": "stream",
     "text": [
      "Epoch 1/50\n",
      "4872/4872 [==============================] - 12s 2ms/step - loss: 0.6162 - accuracy: 0.8993 - val_loss: 0.5912 - val_accuracy: 0.9268\n",
      "Epoch 2/50\n",
      "4872/4872 [==============================] - 10s 2ms/step - loss: 0.6365 - accuracy: 0.9029 - val_loss: 0.7955 - val_accuracy: 0.9268\n",
      "Epoch 3/50\n",
      "4872/4872 [==============================] - 10s 2ms/step - loss: 0.6731 - accuracy: 0.8883 - val_loss: 0.6039 - val_accuracy: 0.9268\n",
      "Epoch 4/50\n",
      "4872/4872 [==============================] - 10s 2ms/step - loss: 0.6776 - accuracy: 0.9016 - val_loss: 0.6633 - val_accuracy: 0.9274\n",
      "Epoch 5/50\n",
      "4872/4872 [==============================] - 10s 2ms/step - loss: 0.6647 - accuracy: 0.9006 - val_loss: 0.6661 - val_accuracy: 0.9249\n",
      "Epoch 6/50\n",
      "4872/4872 [==============================] - 10s 2ms/step - loss: 0.7148 - accuracy: 0.8976 - val_loss: 0.6246 - val_accuracy: 0.9274\n",
      "Epoch 7/50\n",
      "4872/4872 [==============================] - 10s 2ms/step - loss: 0.7361 - accuracy: 0.8854 - val_loss: 0.7556 - val_accuracy: 0.9274\n",
      "Epoch 8/50\n",
      "4872/4872 [==============================] - 10s 2ms/step - loss: 0.7299 - accuracy: 0.9004 - val_loss: 0.4998 - val_accuracy: 0.8929\n",
      "Epoch 9/50\n",
      "4872/4872 [==============================] - 9s 2ms/step - loss: 0.8359 - accuracy: 0.8836 - val_loss: 0.5165 - val_accuracy: 0.9034\n",
      "Epoch 10/50\n",
      "4872/4872 [==============================] - 10s 2ms/step - loss: 0.7675 - accuracy: 0.8875 - val_loss: 1.0034 - val_accuracy: 0.9274\n",
      "Epoch 11/50\n",
      "4872/4872 [==============================] - 10s 2ms/step - loss: 0.8749 - accuracy: 0.8858 - val_loss: 0.7641 - val_accuracy: 0.9138\n",
      "Epoch 12/50\n",
      "4872/4872 [==============================] - 10s 2ms/step - loss: 0.8100 - accuracy: 0.8960 - val_loss: 0.6189 - val_accuracy: 0.9169\n",
      "Epoch 13/50\n",
      "4872/4872 [==============================] - 10s 2ms/step - loss: 0.9184 - accuracy: 0.8817 - val_loss: 0.8627 - val_accuracy: 0.9262\n",
      "Epoch 14/50\n",
      "4872/4872 [==============================] - 10s 2ms/step - loss: 0.8959 - accuracy: 0.8863 - val_loss: 1.1188 - val_accuracy: 0.9274\n",
      "Epoch 15/50\n",
      "4872/4872 [==============================] - 10s 2ms/step - loss: 0.8279 - accuracy: 0.8925 - val_loss: 0.8167 - val_accuracy: 0.9280\n",
      "Epoch 16/50\n",
      "4872/4872 [==============================] - 10s 2ms/step - loss: 0.8770 - accuracy: 0.8790 - val_loss: 0.6536 - val_accuracy: 0.9262\n",
      "Epoch 17/50\n",
      "4872/4872 [==============================] - 10s 2ms/step - loss: 0.8318 - accuracy: 0.8920 - val_loss: 0.5748 - val_accuracy: 0.8966\n",
      "Epoch 18/50\n",
      "4872/4872 [==============================] - 10s 2ms/step - loss: 0.8300 - accuracy: 0.8894 - val_loss: 0.7656 - val_accuracy: 0.9274\n",
      "Epoch 19/50\n",
      "4872/4872 [==============================] - 10s 2ms/step - loss: 0.7889 - accuracy: 0.8891 - val_loss: 0.5810 - val_accuracy: 0.8732\n",
      "Epoch 20/50\n",
      "4872/4872 [==============================] - 10s 2ms/step - loss: 0.8177 - accuracy: 0.8903 - val_loss: 0.4792 - val_accuracy: 0.9231\n",
      "Epoch 21/50\n",
      "4872/4872 [==============================] - 10s 2ms/step - loss: 0.8244 - accuracy: 0.8803 - val_loss: 0.5527 - val_accuracy: 0.9200\n",
      "Epoch 22/50\n",
      "4872/4872 [==============================] - 9s 2ms/step - loss: 0.7780 - accuracy: 0.8877 - val_loss: 0.6367 - val_accuracy: 0.9268\n",
      "Epoch 23/50\n",
      "4872/4872 [==============================] - 10s 2ms/step - loss: 0.8111 - accuracy: 0.8874 - val_loss: 0.5816 - val_accuracy: 0.9268\n",
      "Epoch 24/50\n",
      "4872/4872 [==============================] - 10s 2ms/step - loss: 0.8441 - accuracy: 0.8898 - val_loss: 0.7976 - val_accuracy: 0.9292\n",
      "Epoch 25/50\n",
      "4872/4872 [==============================] - 10s 2ms/step - loss: 0.9362 - accuracy: 0.8988 - val_loss: 0.9058 - val_accuracy: 0.6332\n",
      "Epoch 26/50\n",
      "4872/4872 [==============================] - 10s 2ms/step - loss: 0.8525 - accuracy: 0.8704 - val_loss: 0.6088 - val_accuracy: 0.9132\n",
      "Epoch 27/50\n",
      "4872/4872 [==============================] - 10s 2ms/step - loss: 0.7171 - accuracy: 0.8954 - val_loss: 0.7468 - val_accuracy: 0.9274\n",
      "Epoch 28/50\n",
      "4872/4872 [==============================] - 10s 2ms/step - loss: 0.7122 - accuracy: 0.8986 - val_loss: 0.4926 - val_accuracy: 0.8991\n",
      "Epoch 29/50\n",
      "4872/4872 [==============================] - 9s 2ms/step - loss: 0.7896 - accuracy: 0.8910 - val_loss: 0.6502 - val_accuracy: 0.9280\n",
      "Epoch 30/50\n",
      "4872/4872 [==============================] - 10s 2ms/step - loss: 0.7798 - accuracy: 0.8936 - val_loss: 0.7934 - val_accuracy: 0.9274\n",
      "Epoch 31/50\n",
      "4872/4872 [==============================] - 10s 2ms/step - loss: 0.7192 - accuracy: 0.8923 - val_loss: 1.9869 - val_accuracy: 0.4308\n",
      "Epoch 32/50\n",
      "4872/4872 [==============================] - 10s 2ms/step - loss: 0.7587 - accuracy: 0.8952 - val_loss: 0.6675 - val_accuracy: 0.9262\n",
      "Epoch 33/50\n",
      "4872/4872 [==============================] - 10s 2ms/step - loss: 0.8130 - accuracy: 0.8819 - val_loss: 1.0974 - val_accuracy: 0.6092\n",
      "Epoch 34/50\n",
      "4872/4872 [==============================] - 10s 2ms/step - loss: 0.9331 - accuracy: 0.8789 - val_loss: 0.9006 - val_accuracy: 0.9274\n",
      "Epoch 35/50\n",
      "4872/4872 [==============================] - 10s 2ms/step - loss: 0.6872 - accuracy: 0.9012 - val_loss: 0.5660 - val_accuracy: 0.9151\n",
      "Epoch 36/50\n",
      "4872/4872 [==============================] - 10s 2ms/step - loss: 0.7502 - accuracy: 0.8977 - val_loss: 0.7244 - val_accuracy: 0.9268\n",
      "Epoch 37/50\n",
      "4872/4872 [==============================] - 10s 2ms/step - loss: 0.7568 - accuracy: 0.8901 - val_loss: 0.5914 - val_accuracy: 0.9102\n",
      "Epoch 38/50\n",
      "4872/4872 [==============================] - 10s 2ms/step - loss: 0.7260 - accuracy: 0.8894 - val_loss: 0.5634 - val_accuracy: 0.9151\n",
      "Epoch 39/50\n",
      "4872/4872 [==============================] - 10s 2ms/step - loss: 0.7504 - accuracy: 0.8844 - val_loss: 0.5995 - val_accuracy: 0.9194\n",
      "Epoch 40/50\n",
      "4872/4872 [==============================] - 10s 2ms/step - loss: 0.8330 - accuracy: 0.8903 - val_loss: 0.6717 - val_accuracy: 0.9262\n",
      "Epoch 41/50\n",
      "4872/4872 [==============================] - 10s 2ms/step - loss: 0.7320 - accuracy: 0.8890 - val_loss: 0.6613 - val_accuracy: 0.9262\n",
      "Epoch 42/50\n",
      "4872/4872 [==============================] - 10s 2ms/step - loss: 0.8491 - accuracy: 0.9000 - val_loss: 1.0509 - val_accuracy: 0.9268\n",
      "Epoch 43/50\n",
      "4872/4872 [==============================] - 10s 2ms/step - loss: 0.6316 - accuracy: 0.9003 - val_loss: 0.4380 - val_accuracy: 0.9071\n",
      "Epoch 44/50\n",
      "4872/4872 [==============================] - 10s 2ms/step - loss: 0.6131 - accuracy: 0.9062 - val_loss: 0.7257 - val_accuracy: 0.9274\n",
      "Epoch 45/50\n",
      "4872/4872 [==============================] - 10s 2ms/step - loss: 0.7010 - accuracy: 0.8934 - val_loss: 0.5538 - val_accuracy: 0.9083\n",
      "Epoch 46/50\n",
      "4872/4872 [==============================] - 10s 2ms/step - loss: 0.7363 - accuracy: 0.8953 - val_loss: 0.6013 - val_accuracy: 0.9182\n",
      "Epoch 47/50\n",
      "4872/4872 [==============================] - 10s 2ms/step - loss: 0.6410 - accuracy: 0.9023 - val_loss: 0.6735 - val_accuracy: 0.9280\n",
      "Epoch 48/50\n",
      "4872/4872 [==============================] - 10s 2ms/step - loss: 0.6632 - accuracy: 0.8930 - val_loss: 0.8828 - val_accuracy: 0.7028\n",
      "Epoch 49/50\n",
      "4872/4872 [==============================] - 10s 2ms/step - loss: 0.6403 - accuracy: 0.8886 - val_loss: 0.5849 - val_accuracy: 0.9274\n",
      "Epoch 50/50\n",
      "4872/4872 [==============================] - 10s 2ms/step - loss: 0.6493 - accuracy: 0.9017 - val_loss: 0.8484 - val_accuracy: 0.7932\n"
     ]
    }
   ],
   "source": [
    "num_epochs = 50\n",
    "# Build the Keras model (already compiled)\n",
    "model1 = clasmodl1()\n",
    "# Train the model (in silent mode, verbose=0)\n",
    "history1 = model1.fit(Xtrain, one_hot_train_labels,validation_data=(Xval, one_hot_val_labels),\n",
    "          epochs=num_epochs, batch_size=1, verbose=1)\n",
    "# Evaluate the model on the validation data\n",
    "#val_mse, val_mae = model.evaluate(Xval, Xval, verbose=0)\n",
    "#all_scores.append(val_mae)\n",
    "\n",
    "training_loss1 = history1.history['loss']\n",
    "#mae_history1 = history1.history['val_mae']\n",
    "cat_history1 = history1.history['val_loss']"
   ]
  },
  {
   "cell_type": "code",
   "execution_count": 8,
   "metadata": {
    "executionInfo": {
     "elapsed": 724,
     "status": "ok",
     "timestamp": 1616267952341,
     "user": {
      "displayName": "Rafi Ahmed",
      "photoUrl": "",
      "userId": "10177168856407500033"
     },
     "user_tz": 240
    },
    "id": "iNHx0VLjuuKf"
   },
   "outputs": [],
   "source": [
    "def smooth_curve(points, factor=0.9):\n",
    "    smoothed_points = []\n",
    "    for point in points:\n",
    "        if smoothed_points:\n",
    "            previous = smoothed_points[-1]\n",
    "            smoothed_points.append(previous * factor + point * (1 - factor))\n",
    "        else:\n",
    "            smoothed_points.append(point)\n",
    "    return smoothed_points\n",
    "\n",
    "smooth_cat_history1 = smooth_curve(cat_history1)\n",
    "smooth_train_history1 = smooth_curve(training_loss1)\n"
   ]
  },
  {
   "cell_type": "code",
   "execution_count": 9,
   "metadata": {
    "colab": {
     "base_uri": "https://localhost:8080/",
     "height": 295
    },
    "executionInfo": {
     "elapsed": 543,
     "status": "ok",
     "timestamp": 1616267953758,
     "user": {
      "displayName": "Rafi Ahmed",
      "photoUrl": "",
      "userId": "10177168856407500033"
     },
     "user_tz": 240
    },
    "id": "1R4WZ-2DEhs0",
    "outputId": "02262472-d863-461b-ea4f-86a8c7130024"
   },
   "outputs": [
    {
     "data": {
      "image/png": "[encoded data removed]",
      "text/plain": [
       "<Figure size 432x288 with 1 Axes>"
      ]
     },
     "metadata": {
      "needs_background": "light",
      "tags": []
     },
     "output_type": "display_data"
    }
   ],
   "source": [
    "\n",
    "plt.plot(smooth_train_history1,'o')\n",
    "plt.plot(smooth_cat_history1)\n",
    "plt.title('Classification Model 1 loss')\n",
    "plt.ylabel('loss')\n",
    "plt.xlabel('epoch')\n",
    "plt.legend(['training loss', 'validation loss'], loc='upper right')\n",
    "plt.show()"
   ]
  },
  {
   "cell_type": "code",
   "execution_count": 123,
   "metadata": {
    "executionInfo": {
     "elapsed": 424762,
     "status": "ok",
     "timestamp": 1616218388510,
     "user": {
      "displayName": "Rafi Ahmed",
      "photoUrl": "",
      "userId": "10177168856407500033"
     },
     "user_tz": 240
    },
    "id": "HBCck7CIcW7h"
   },
   "outputs": [],
   "source": [
    "def clasmodl2():\n",
    "  # classification model with 3 hidden layers\n",
    "  model = models.Sequential()\n",
    "  model.add(layers.Dense(64, activation='relu', input_shape=(Xtrain.shape[1],)))\n",
    "  model.add(layers.Dense(64, activation='relu'))\n",
    "  model.add(layers.Dense(64, activation='relu'))\n",
    "  model.add(layers.Dense(3, activation='softmax'))\n",
    "  model.compile(optimizer='rmsprop', loss='categorical_crossentropy', metrics=['accuracy'])\n",
    "  return model"
   ]
  },
  {
   "cell_type": "code",
   "execution_count": 124,
   "metadata": {
    "colab": {
     "base_uri": "https://localhost:8080/"
    },
    "executionInfo": {
     "elapsed": 918573,
     "status": "ok",
     "timestamp": 1616218882324,
     "user": {
      "displayName": "Rafi Ahmed",
      "photoUrl": "",
      "userId": "10177168856407500033"
     },
     "user_tz": 240
    },
    "id": "bVGgKvU5jwka",
    "outputId": "1f19353f-7861-4bf4-9171-82cda1de8a86"
   },
   "outputs": [
    {
     "name": "stdout",
     "output_type": "stream",
     "text": [
      "Epoch 1/50\n",
      "4872/4872 [==============================] - 11s 2ms/step - loss: 0.7603 - accuracy: 0.9025 - val_loss: 1.0265 - val_accuracy: 0.9268\n",
      "Epoch 2/50\n",
      "4872/4872 [==============================] - 10s 2ms/step - loss: 0.5833 - accuracy: 0.9209 - val_loss: 0.5316 - val_accuracy: 0.9268\n",
      "Epoch 3/50\n",
      "4872/4872 [==============================] - 10s 2ms/step - loss: 0.5871 - accuracy: 0.9142 - val_loss: 0.6770 - val_accuracy: 0.9268\n",
      "Epoch 4/50\n",
      "4872/4872 [==============================] - 10s 2ms/step - loss: 0.5435 - accuracy: 0.9194 - val_loss: 0.4765 - val_accuracy: 0.9268\n",
      "Epoch 5/50\n",
      "4872/4872 [==============================] - 10s 2ms/step - loss: 0.5652 - accuracy: 0.9271 - val_loss: 0.5882 - val_accuracy: 0.9268\n",
      "Epoch 6/50\n",
      "4872/4872 [==============================] - 10s 2ms/step - loss: 0.5717 - accuracy: 0.9300 - val_loss: 0.8207 - val_accuracy: 0.9268\n",
      "Epoch 7/50\n",
      "4872/4872 [==============================] - 10s 2ms/step - loss: 0.5721 - accuracy: 0.9326 - val_loss: 0.3395 - val_accuracy: 0.9268\n",
      "Epoch 8/50\n",
      "4872/4872 [==============================] - 10s 2ms/step - loss: 0.5101 - accuracy: 0.9291 - val_loss: 1.0424 - val_accuracy: 0.9268\n",
      "Epoch 9/50\n",
      "4872/4872 [==============================] - 10s 2ms/step - loss: 0.6264 - accuracy: 0.9297 - val_loss: 0.4936 - val_accuracy: 0.9268\n",
      "Epoch 10/50\n",
      "4872/4872 [==============================] - 10s 2ms/step - loss: 0.5650 - accuracy: 0.9321 - val_loss: 0.4592 - val_accuracy: 0.9268\n",
      "Epoch 11/50\n",
      "4872/4872 [==============================] - 10s 2ms/step - loss: 0.5621 - accuracy: 0.9243 - val_loss: 0.4305 - val_accuracy: 0.9268\n",
      "Epoch 12/50\n",
      "4872/4872 [==============================] - 10s 2ms/step - loss: 0.6305 - accuracy: 0.9269 - val_loss: 0.3204 - val_accuracy: 0.9268\n",
      "Epoch 13/50\n",
      "4872/4872 [==============================] - 10s 2ms/step - loss: 0.6111 - accuracy: 0.9352 - val_loss: 1.5734 - val_accuracy: 0.9268\n",
      "Epoch 14/50\n",
      "4872/4872 [==============================] - 10s 2ms/step - loss: 0.6119 - accuracy: 0.9307 - val_loss: 0.3123 - val_accuracy: 0.9268\n",
      "Epoch 15/50\n",
      "4872/4872 [==============================] - 10s 2ms/step - loss: 0.5534 - accuracy: 0.9326 - val_loss: 0.4248 - val_accuracy: 0.9268\n",
      "Epoch 16/50\n",
      "4872/4872 [==============================] - 10s 2ms/step - loss: 0.5097 - accuracy: 0.9253 - val_loss: 0.7942 - val_accuracy: 0.9268\n",
      "Epoch 17/50\n",
      "4872/4872 [==============================] - 10s 2ms/step - loss: 0.6208 - accuracy: 0.9342 - val_loss: 0.8420 - val_accuracy: 0.9268\n",
      "Epoch 18/50\n",
      "4872/4872 [==============================] - 10s 2ms/step - loss: 0.6606 - accuracy: 0.9267 - val_loss: 0.3409 - val_accuracy: 0.9268\n",
      "Epoch 19/50\n",
      "4872/4872 [==============================] - 10s 2ms/step - loss: 0.5946 - accuracy: 0.9318 - val_loss: 0.4441 - val_accuracy: 0.9268\n",
      "Epoch 20/50\n",
      "4872/4872 [==============================] - 10s 2ms/step - loss: 0.5620 - accuracy: 0.9285 - val_loss: 0.6239 - val_accuracy: 0.9268\n",
      "Epoch 21/50\n",
      "4872/4872 [==============================] - 10s 2ms/step - loss: 0.5644 - accuracy: 0.9308 - val_loss: 0.6253 - val_accuracy: 0.9268\n",
      "Epoch 22/50\n",
      "4872/4872 [==============================] - 10s 2ms/step - loss: 0.5434 - accuracy: 0.9384 - val_loss: 0.3993 - val_accuracy: 0.9268\n",
      "Epoch 23/50\n",
      "4872/4872 [==============================] - 10s 2ms/step - loss: 0.6143 - accuracy: 0.9342 - val_loss: 0.8354 - val_accuracy: 0.9268\n",
      "Epoch 24/50\n",
      "4872/4872 [==============================] - 10s 2ms/step - loss: 0.6053 - accuracy: 0.9324 - val_loss: 0.7958 - val_accuracy: 0.9268\n",
      "Epoch 25/50\n",
      "4872/4872 [==============================] - 10s 2ms/step - loss: 0.5983 - accuracy: 0.9316 - val_loss: 0.3780 - val_accuracy: 0.9268\n",
      "Epoch 26/50\n",
      "4872/4872 [==============================] - 10s 2ms/step - loss: 0.6279 - accuracy: 0.9261 - val_loss: 0.3511 - val_accuracy: 0.9268\n",
      "Epoch 27/50\n",
      "4872/4872 [==============================] - 10s 2ms/step - loss: 0.6398 - accuracy: 0.9286 - val_loss: 0.3629 - val_accuracy: 0.9268\n",
      "Epoch 28/50\n",
      "4872/4872 [==============================] - 10s 2ms/step - loss: 0.5160 - accuracy: 0.9276 - val_loss: 0.7535 - val_accuracy: 0.9268\n",
      "Epoch 29/50\n",
      "4872/4872 [==============================] - 10s 2ms/step - loss: 0.6000 - accuracy: 0.9332 - val_loss: 0.3975 - val_accuracy: 0.9243\n",
      "Epoch 30/50\n",
      "4872/4872 [==============================] - 10s 2ms/step - loss: 0.5331 - accuracy: 0.9324 - val_loss: 0.3984 - val_accuracy: 0.9268\n",
      "Epoch 31/50\n",
      "4872/4872 [==============================] - 10s 2ms/step - loss: 0.6845 - accuracy: 0.9391 - val_loss: 0.3848 - val_accuracy: 0.9268\n",
      "Epoch 32/50\n",
      "4872/4872 [==============================] - 10s 2ms/step - loss: 0.5491 - accuracy: 0.9365 - val_loss: 0.8052 - val_accuracy: 0.8283\n",
      "Epoch 33/50\n",
      "4872/4872 [==============================] - 10s 2ms/step - loss: 0.7069 - accuracy: 0.9304 - val_loss: 0.8939 - val_accuracy: 0.9268\n",
      "Epoch 34/50\n",
      "4872/4872 [==============================] - 10s 2ms/step - loss: 0.7463 - accuracy: 0.9289 - val_loss: 1.3926 - val_accuracy: 0.9268\n",
      "Epoch 35/50\n",
      "4872/4872 [==============================] - 10s 2ms/step - loss: 0.7263 - accuracy: 0.9375 - val_loss: 0.4523 - val_accuracy: 0.9268\n",
      "Epoch 36/50\n",
      "4872/4872 [==============================] - 10s 2ms/step - loss: 0.6638 - accuracy: 0.9339 - val_loss: 0.7322 - val_accuracy: 0.9262\n",
      "Epoch 37/50\n",
      "4872/4872 [==============================] - 10s 2ms/step - loss: 0.6473 - accuracy: 0.9302 - val_loss: 0.5898 - val_accuracy: 0.9268\n",
      "Epoch 38/50\n",
      "4872/4872 [==============================] - 10s 2ms/step - loss: 0.6286 - accuracy: 0.9336 - val_loss: 0.7869 - val_accuracy: 0.9268\n",
      "Epoch 39/50\n",
      "4872/4872 [==============================] - 10s 2ms/step - loss: 0.7170 - accuracy: 0.9336 - val_loss: 0.6848 - val_accuracy: 0.9268\n",
      "Epoch 40/50\n",
      "4872/4872 [==============================] - 10s 2ms/step - loss: 0.7256 - accuracy: 0.9290 - val_loss: 1.0528 - val_accuracy: 0.9268\n",
      "Epoch 41/50\n",
      "4872/4872 [==============================] - 10s 2ms/step - loss: 0.6790 - accuracy: 0.9221 - val_loss: 0.4806 - val_accuracy: 0.9268\n",
      "Epoch 42/50\n",
      "4872/4872 [==============================] - 10s 2ms/step - loss: 0.5951 - accuracy: 0.9297 - val_loss: 1.1520 - val_accuracy: 0.9268\n",
      "Epoch 43/50\n",
      "4872/4872 [==============================] - 10s 2ms/step - loss: 0.6471 - accuracy: 0.9380 - val_loss: 0.7268 - val_accuracy: 0.9268\n",
      "Epoch 44/50\n",
      "4872/4872 [==============================] - 10s 2ms/step - loss: 0.6390 - accuracy: 0.9270 - val_loss: 0.9994 - val_accuracy: 0.9268\n",
      "Epoch 45/50\n",
      "4872/4872 [==============================] - 10s 2ms/step - loss: 0.8211 - accuracy: 0.9266 - val_loss: 0.4000 - val_accuracy: 0.9268\n",
      "Epoch 46/50\n",
      "4872/4872 [==============================] - 10s 2ms/step - loss: 0.5810 - accuracy: 0.9333 - val_loss: 0.5381 - val_accuracy: 0.9268\n",
      "Epoch 47/50\n",
      "4872/4872 [==============================] - 10s 2ms/step - loss: 0.6460 - accuracy: 0.9315 - val_loss: 0.6330 - val_accuracy: 0.9268\n",
      "Epoch 48/50\n",
      "4872/4872 [==============================] - 10s 2ms/step - loss: 0.6942 - accuracy: 0.9283 - val_loss: 1.0399 - val_accuracy: 0.9268\n",
      "Epoch 49/50\n",
      "4872/4872 [==============================] - 10s 2ms/step - loss: 0.7518 - accuracy: 0.9308 - val_loss: 0.5296 - val_accuracy: 0.9268\n",
      "Epoch 50/50\n",
      "4872/4872 [==============================] - 10s 2ms/step - loss: 0.5788 - accuracy: 0.9330 - val_loss: 0.4844 - val_accuracy: 0.9255\n"
     ]
    }
   ],
   "source": [
    "num_epochs2 = 50\n",
    "# Build the Keras model (already compiled)\n",
    "model2 = clasmodl2()\n",
    "# Train the model (in silent mode, verbose=0)\n",
    "history2 = model2.fit(Xtrain, one_hot_train_labels,validation_data=(Xval, one_hot_val_labels),\n",
    "          epochs=num_epochs2, batch_size=1, verbose=1)\n",
    "# Evaluate the model on the validation data\n",
    "#val_mse, val_mae = model.evaluate(Xval, Xval, verbose=0)\n",
    "#all_scores.append(val_mae)\n",
    "\n",
    "training_loss2 = history2.history['loss']\n",
    "#mae_history2 = history2.history['val_mae']\n",
    "mse_history2 = history2.history['val_loss']\n",
    "\n",
    "#smooth_mse_history2 = smooth_curve(mse_history2)\n",
    "#smooth_train_history2 = smooth_curve(training_loss2)"
   ]
  },
  {
   "cell_type": "code",
   "execution_count": 125,
   "metadata": {
    "executionInfo": {
     "elapsed": 918570,
     "status": "ok",
     "timestamp": 1616218882326,
     "user": {
      "displayName": "Rafi Ahmed",
      "photoUrl": "",
      "userId": "10177168856407500033"
     },
     "user_tz": 240
    },
    "id": "SREj8nhCFtgY"
   },
   "outputs": [],
   "source": [
    "smooth_mse_history2 = smooth_curve(mse_history2)\n",
    "smooth_train_history2 = smooth_curve(training_loss2)"
   ]
  },
  {
   "cell_type": "code",
   "execution_count": 126,
   "metadata": {
    "colab": {
     "base_uri": "https://localhost:8080/",
     "height": 295
    },
    "executionInfo": {
     "elapsed": 918572,
     "status": "ok",
     "timestamp": 1616218882333,
     "user": {
      "displayName": "Rafi Ahmed",
      "photoUrl": "",
      "userId": "10177168856407500033"
     },
     "user_tz": 240
    },
    "id": "4XtRmj2SK-cj",
    "outputId": "5d8b7592-e135-4659-9063-427ddcba57fa"
   },
   "outputs": [
    {
     "data": {
      "image/png": "[encoded data removed]",
      "text/plain": [
       "<Figure size 432x288 with 1 Axes>"
      ]
     },
     "metadata": {
      "needs_background": "light",
      "tags": []
     },
     "output_type": "display_data"
    }
   ],
   "source": [
    "plt.plot(smooth_train_history2)\n",
    "plt.plot(smooth_mse_history2)\n",
    "#plt.plot(mse_history2)\n",
    "plt.title('Classification Model 2 Loss')\n",
    "plt.ylabel('loss')\n",
    "plt.xlabel('epoch')\n",
    "plt.legend(['training loss', 'validation loss'], loc='upper right')\n",
    "plt.show()"
   ]
  },
  {
   "cell_type": "code",
   "execution_count": 127,
   "metadata": {
    "executionInfo": {
     "elapsed": 918568,
     "status": "ok",
     "timestamp": 1616218882333,
     "user": {
      "displayName": "Rafi Ahmed",
      "photoUrl": "",
      "userId": "10177168856407500033"
     },
     "user_tz": 240
    },
    "id": "sE4Ye8FPK--h"
   },
   "outputs": [],
   "source": [
    "def clasmodl3():\n",
    "  model = models.Sequential()\n",
    "  model.add(layers.Dense(64, activation='relu', input_shape=(Xtrain.shape[1],)))\n",
    "  model.add(layers.Dropout(0.5))\n",
    "  model.add(layers.Dense(64, activation='relu'))\n",
    "  model.add(layers.Dropout(0.5))\n",
    "  model.add(layers.Dense(64, activation='relu'))\n",
    "  model.add(layers.Dense(3, activation='softmax'))\n",
    "  model.compile(optimizer='rmsprop', loss='categorical_crossentropy', metrics=['accuracy'])\n",
    "  return model"
   ]
  },
  {
   "cell_type": "code",
   "execution_count": 149,
   "metadata": {
    "colab": {
     "base_uri": "https://localhost:8080/"
    },
    "executionInfo": {
     "elapsed": 308135,
     "status": "ok",
     "timestamp": 1616222521317,
     "user": {
      "displayName": "Rafi Ahmed",
      "photoUrl": "",
      "userId": "10177168856407500033"
     },
     "user_tz": 240
    },
    "id": "0dj2LnBCK_mQ",
    "outputId": "1cf4cec7-8c0d-4882-bd4d-c493883fee89"
   },
   "outputs": [
    {
     "name": "stdout",
     "output_type": "stream",
     "text": [
      "Epoch 1/30\n",
      "4872/4872 [==============================] - 11s 2ms/step - loss: 1.5729 - accuracy: 0.9119 - val_loss: 0.4639 - val_accuracy: 0.9268\n",
      "Epoch 2/30\n",
      "4872/4872 [==============================] - 10s 2ms/step - loss: 0.7118 - accuracy: 0.9328 - val_loss: 0.4233 - val_accuracy: 0.9268\n",
      "Epoch 3/30\n",
      "4872/4872 [==============================] - 10s 2ms/step - loss: 0.7257 - accuracy: 0.9077 - val_loss: 1.1283 - val_accuracy: 0.9268\n",
      "Epoch 4/30\n",
      "4872/4872 [==============================] - 10s 2ms/step - loss: 0.7704 - accuracy: 0.9013 - val_loss: 1.0394 - val_accuracy: 0.9268\n",
      "Epoch 5/30\n",
      "4872/4872 [==============================] - 10s 2ms/step - loss: 0.8178 - accuracy: 0.8995 - val_loss: 0.5701 - val_accuracy: 0.9268\n",
      "Epoch 6/30\n",
      "4872/4872 [==============================] - 10s 2ms/step - loss: 0.7478 - accuracy: 0.9066 - val_loss: 0.7166 - val_accuracy: 0.9268\n",
      "Epoch 7/30\n",
      "4872/4872 [==============================] - 10s 2ms/step - loss: 0.6999 - accuracy: 0.9131 - val_loss: 0.4765 - val_accuracy: 0.9268\n",
      "Epoch 8/30\n",
      "4872/4872 [==============================] - 10s 2ms/step - loss: 0.7016 - accuracy: 0.9200 - val_loss: 0.9574 - val_accuracy: 0.9268\n",
      "Epoch 9/30\n",
      "4872/4872 [==============================] - 10s 2ms/step - loss: 0.7499 - accuracy: 0.9094 - val_loss: 1.2097 - val_accuracy: 0.9268\n",
      "Epoch 10/30\n",
      "4872/4872 [==============================] - 10s 2ms/step - loss: 0.6723 - accuracy: 0.9162 - val_loss: 0.4758 - val_accuracy: 0.9268\n",
      "Epoch 11/30\n",
      "4872/4872 [==============================] - 10s 2ms/step - loss: 0.7085 - accuracy: 0.9182 - val_loss: 0.4337 - val_accuracy: 0.9268\n",
      "Epoch 12/30\n",
      "4872/4872 [==============================] - 10s 2ms/step - loss: 0.6997 - accuracy: 0.9235 - val_loss: 0.5778 - val_accuracy: 0.9268\n",
      "Epoch 13/30\n",
      "4872/4872 [==============================] - 10s 2ms/step - loss: 0.7219 - accuracy: 0.9172 - val_loss: 0.7970 - val_accuracy: 0.9268\n",
      "Epoch 14/30\n",
      "4872/4872 [==============================] - 10s 2ms/step - loss: 0.6403 - accuracy: 0.9303 - val_loss: 0.3444 - val_accuracy: 0.9268\n",
      "Epoch 15/30\n",
      "4872/4872 [==============================] - 10s 2ms/step - loss: 0.6293 - accuracy: 0.9203 - val_loss: 0.3945 - val_accuracy: 0.9268\n",
      "Epoch 16/30\n",
      "4872/4872 [==============================] - 10s 2ms/step - loss: 0.6211 - accuracy: 0.9334 - val_loss: 0.5311 - val_accuracy: 0.9268\n",
      "Epoch 17/30\n",
      "4872/4872 [==============================] - 10s 2ms/step - loss: 0.6290 - accuracy: 0.9282 - val_loss: 0.7153 - val_accuracy: 0.9268\n",
      "Epoch 18/30\n",
      "4872/4872 [==============================] - 10s 2ms/step - loss: 0.6313 - accuracy: 0.9274 - val_loss: 0.8628 - val_accuracy: 0.9268\n",
      "Epoch 19/30\n",
      "4872/4872 [==============================] - 10s 2ms/step - loss: 0.6818 - accuracy: 0.9206 - val_loss: 0.4506 - val_accuracy: 0.9268\n",
      "Epoch 20/30\n",
      "4872/4872 [==============================] - 10s 2ms/step - loss: 0.6108 - accuracy: 0.9248 - val_loss: 0.3212 - val_accuracy: 0.9268\n",
      "Epoch 21/30\n",
      "4872/4872 [==============================] - 10s 2ms/step - loss: 0.6529 - accuracy: 0.9312 - val_loss: 0.3478 - val_accuracy: 0.9268\n",
      "Epoch 22/30\n",
      "4872/4872 [==============================] - 11s 2ms/step - loss: 0.6659 - accuracy: 0.9246 - val_loss: 0.4574 - val_accuracy: 0.9268\n",
      "Epoch 23/30\n",
      "4872/4872 [==============================] - 10s 2ms/step - loss: 0.6232 - accuracy: 0.9227 - val_loss: 0.5018 - val_accuracy: 0.9268\n",
      "Epoch 24/30\n",
      "4872/4872 [==============================] - 10s 2ms/step - loss: 0.6833 - accuracy: 0.9256 - val_loss: 0.4476 - val_accuracy: 0.9268\n",
      "Epoch 25/30\n",
      "4872/4872 [==============================] - 10s 2ms/step - loss: 0.6861 - accuracy: 0.9310 - val_loss: 0.5845 - val_accuracy: 0.9268\n",
      "Epoch 26/30\n",
      "4872/4872 [==============================] - 10s 2ms/step - loss: 0.6646 - accuracy: 0.9295 - val_loss: 0.6449 - val_accuracy: 0.9268\n",
      "Epoch 27/30\n",
      "4872/4872 [==============================] - 10s 2ms/step - loss: 0.6920 - accuracy: 0.9287 - val_loss: 0.4350 - val_accuracy: 0.9268\n",
      "Epoch 28/30\n",
      "4872/4872 [==============================] - 10s 2ms/step - loss: 0.6867 - accuracy: 0.9316 - val_loss: 0.5156 - val_accuracy: 0.9268\n",
      "Epoch 29/30\n",
      "4872/4872 [==============================] - 10s 2ms/step - loss: 0.5677 - accuracy: 0.9278 - val_loss: 0.6733 - val_accuracy: 0.9268\n",
      "Epoch 30/30\n",
      "4872/4872 [==============================] - 10s 2ms/step - loss: 0.7556 - accuracy: 0.9228 - val_loss: 0.4752 - val_accuracy: 0.9268\n"
     ]
    }
   ],
   "source": [
    "num_epochs3 = 30\n",
    "# Build the Keras model (already compiled)\n",
    "model3 = clasmodl3()\n",
    "# Train the model (in silent mode, verbose=0)\n",
    "history3 = model3.fit(Xtrain, one_hot_train_labels,validation_data=(Xval, one_hot_val_labels),\n",
    "          epochs=num_epochs3, batch_size=1, verbose=1)\n",
    "# Evaluate the model on the validation data\n",
    "#val_mse, val_mae = model.evaluate(Xval, Xval, verbose=0)\n",
    "#all_scores.append(val_mae)\n",
    "\n",
    "training_loss3 = history3.history['loss']\n",
    "#mae_history3 = history3.history['val_mae']\n",
    "mse_history3 = history3.history['val_loss']\n",
    "\n",
    "#smooth_mse_history3 = smooth_curve(mse_history3)"
   ]
  },
  {
   "cell_type": "code",
   "execution_count": 150,
   "metadata": {
    "executionInfo": {
     "elapsed": 384,
     "status": "ok",
     "timestamp": 1616222521715,
     "user": {
      "displayName": "Rafi Ahmed",
      "photoUrl": "",
      "userId": "10177168856407500033"
     },
     "user_tz": 240
    },
    "id": "5rlc-kelGJTw"
   },
   "outputs": [],
   "source": [
    "smooth_mse_history3 = smooth_curve(mse_history3)\n",
    "smooth_train_history3 = smooth_curve(training_loss3)"
   ]
  },
  {
   "cell_type": "code",
   "execution_count": 151,
   "metadata": {
    "colab": {
     "base_uri": "https://localhost:8080/",
     "height": 295
    },
    "executionInfo": {
     "elapsed": 523,
     "status": "ok",
     "timestamp": 1616222521862,
     "user": {
      "displayName": "Rafi Ahmed",
      "photoUrl": "",
      "userId": "10177168856407500033"
     },
     "user_tz": 240
    },
    "id": "X5BBBpqdRmGx",
    "outputId": "0bc3110c-959f-46d8-dc67-9545170d6cf9"
   },
   "outputs": [
    {
     "data": {
      "image/png": "[encoded data removed]",
      "text/plain": [
       "<Figure size 432x288 with 1 Axes>"
      ]
     },
     "metadata": {
      "needs_background": "light",
      "tags": []
     },
     "output_type": "display_data"
    }
   ],
   "source": [
    "plt.plot(smooth_train_history3,'o')\n",
    "plt.plot(smooth_mse_history3)\n",
    "#plt.plot(mse_history3)\n",
    "plt.title('Classification Model 3 Loss')\n",
    "plt.ylabel('loss')\n",
    "plt.xlabel('epoch')\n",
    "plt.legend(['training loss', 'validation loss'], loc='upper right')\n",
    "plt.show()\n",
    "#mse_history3[-1]"
   ]
  },
  {
   "cell_type": "code",
   "execution_count": 152,
   "metadata": {
    "colab": {
     "base_uri": "https://localhost:8080/"
    },
    "executionInfo": {
     "elapsed": 927,
     "status": "ok",
     "timestamp": 1616222549090,
     "user": {
      "displayName": "Rafi Ahmed",
      "photoUrl": "",
      "userId": "10177168856407500033"
     },
     "user_tz": 240
    },
    "id": "I7kmgE0vdAHN",
    "outputId": "f68026e2-e6c3-494e-a676-9a9bc0c48e6e"
   },
   "outputs": [
    {
     "name": "stdout",
     "output_type": "stream",
     "text": [
      "INFO:tensorflow:Assets written to: my_model2/assets\n"
     ]
    }
   ],
   "source": [
    "# Saved model for regmodl3\n",
    "\n",
    "model3.save(\"my_model2\")"
   ]
  },
  {
   "cell_type": "code",
   "execution_count": 131,
   "metadata": {
    "executionInfo": {
     "elapsed": 1431052,
     "status": "ok",
     "timestamp": 1616219394836,
     "user": {
      "displayName": "Rafi Ahmed",
      "photoUrl": "",
      "userId": "10177168856407500033"
     },
     "user_tz": 240
    },
    "id": "2vFzXp-r41nt"
   },
   "outputs": [],
   "source": []
  },
  {
   "cell_type": "code",
   "execution_count": 132,
   "metadata": {
    "executionInfo": {
     "elapsed": 1431051,
     "status": "ok",
     "timestamp": 1616219394838,
     "user": {
      "displayName": "Rafi Ahmed",
      "photoUrl": "",
      "userId": "10177168856407500033"
     },
     "user_tz": 240
    },
    "id": "RngrYudy48iq"
   },
   "outputs": [],
   "source": [
    "#for layer in model.layers: print(layer.get_config(), layer.get_weights())\n",
    "\n",
    "#model3.layers[3].get_config()\n",
    "\n",
    "#np.save(\"saved_weights.npy\", weights)\n",
    "#array_rain_fall_npy = np.load(\"saved_weights.npy\")\n",
    "\n"
   ]
  },
  {
   "cell_type": "code",
   "execution_count": 153,
   "metadata": {
    "colab": {
     "base_uri": "https://localhost:8080/"
    },
    "executionInfo": {
     "elapsed": 821,
     "status": "ok",
     "timestamp": 1616222558264,
     "user": {
      "displayName": "Rafi Ahmed",
      "photoUrl": "",
      "userId": "10177168856407500033"
     },
     "user_tz": 240
    },
    "id": "iAxuCxjg8o7O",
    "outputId": "86e9dfe3-9a9f-4b05-d59e-b1404d17f7f1"
   },
   "outputs": [
    {
     "name": "stdout",
     "output_type": "stream",
     "text": [
      "51/51 [==============================] - 0s 1ms/step - loss: 0.4752 - accuracy: 0.9268\n",
      "updating: content/my_model2/ (stored 0%)\n",
      "updating: content/my_model2/variables/ (stored 0%)\n",
      "updating: content/my_model2/variables/variables.data-00000-of-00001 (deflated 30%)\n",
      "updating: content/my_model2/variables/variables.index (deflated 65%)\n",
      "updating: content/my_model2/assets/ (stored 0%)\n",
      "updating: content/my_model2/saved_model.pb (deflated 89%)\n"
     ]
    }
   ],
   "source": [
    "model4 = models.load_model(\"my_model2\")\n",
    "\n",
    "\n",
    "#val_mse, val_mae = model4.evaluate(Xval,one_hot_val_labels , verbose=1)\n",
    "loss, accuracy = model4.evaluate(Xval, one_hot_val_labels, verbose=1)\n",
    "#all_scores.append(val_mae)\n",
    "#model4.get_weights()\n",
    "\n",
    "!zip -r /content/my_model2.zip  /content/my_model2\n",
    "\n",
    "#from google.colab import files\n",
    "#files.download('my_model.zip')\n",
    "\n"
   ]
  },
  {
   "cell_type": "code",
   "execution_count": 134,
   "metadata": {
    "colab": {
     "base_uri": "https://localhost:8080/"
    },
    "executionInfo": {
     "elapsed": 1519830,
     "status": "ok",
     "timestamp": 1616219483623,
     "user": {
      "displayName": "Rafi Ahmed",
      "photoUrl": "",
      "userId": "10177168856407500033"
     },
     "user_tz": 240
    },
    "id": "E_mP9RjDAgl7",
    "outputId": "b072cd19-ab6a-4690-abbd-a10b15b3b6fa"
   },
   "outputs": [
    {
     "name": "stdout",
     "output_type": "stream",
     "text": [
      "Archive:  my_model2.zip\n",
      "replace content/my_model2/variables/variables.data-00000-of-00001? [y]es, [n]o, [A]ll, [N]one, [r]ename: n\n",
      "replace content/my_model2/variables/variables.index? [y]es, [n]o, [A]ll, [N]one, [r]ename: n\n",
      "replace content/my_model2/saved_model.pb? [y]es, [n]o, [A]ll, [N]one, [r]ename: n\n"
     ]
    }
   ],
   "source": [
    "!unzip my_model2.zip"
   ]
  },
  {
   "cell_type": "code",
   "execution_count": 135,
   "metadata": {
    "colab": {
     "base_uri": "https://localhost:8080/"
    },
    "executionInfo": {
     "elapsed": 1519827,
     "status": "ok",
     "timestamp": 1616219483624,
     "user": {
      "displayName": "Rafi Ahmed",
      "photoUrl": "",
      "userId": "10177168856407500033"
     },
     "user_tz": 240
    },
    "id": "wa5VU_AjCKPz",
    "outputId": "395c99b1-2646-4e77-c761-50fb3e78d483"
   },
   "outputs": [
    {
     "data": {
      "text/plain": [
       "0.9267692565917969"
      ]
     },
     "execution_count": 135,
     "metadata": {
      "tags": []
     },
     "output_type": "execute_result"
    }
   ],
   "source": [
    "accuracy"
   ]
  },
  {
   "cell_type": "code",
   "execution_count": 135,
   "metadata": {
    "executionInfo": {
     "elapsed": 1519825,
     "status": "ok",
     "timestamp": 1616219483625,
     "user": {
      "displayName": "Rafi Ahmed",
      "photoUrl": "",
      "userId": "10177168856407500033"
     },
     "user_tz": 240
    },
    "id": "1xdU7_jyCOVB"
   },
   "outputs": [],
   "source": []
  },
  {
   "cell_type": "code",
   "execution_count": 135,
   "metadata": {
    "executionInfo": {
     "elapsed": 1519822,
     "status": "ok",
     "timestamp": 1616219483625,
     "user": {
      "displayName": "Rafi Ahmed",
      "photoUrl": "",
      "userId": "10177168856407500033"
     },
     "user_tz": 240
    },
    "id": "x7t1SElbE0nJ"
   },
   "outputs": [],
   "source": []
  }
 ],
 "metadata": {
  "accelerator": "GPU",
  "colab": {
   "collapsed_sections": [],
   "machine_shape": "hm",
   "name": " WQ_Classification.ipynb",
   "provenance": [
    {
     "file_id": "1nk2s4U7BQ8GDwE3VKHBe1cbvyZgOK5zA",
     "timestamp": 1615870693262
    }
   ]
  },
  "kernelspec": {
   "display_name": "Python 3",
   "language": "python",
   "name": "python3"
  },
  "language_info": {
   "codemirror_mode": {
    "name": "ipython",
    "version": 3
   },
   "file_extension": ".py",
   "mimetype": "text/x-python",
   "name": "python",
   "nbconvert_exporter": "python",
   "pygments_lexer": "ipython3",
   "version": "3.7.11"
  }
 },
 "nbformat": 4,
 "nbformat_minor": 1
}
