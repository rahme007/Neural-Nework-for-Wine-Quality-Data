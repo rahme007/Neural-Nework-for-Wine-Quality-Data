{
 "cells": [
  {
   "cell_type": "markdown",
   "metadata": {
    "id": "vB3bHSucPIVs"
   },
   "source": [
    "Abbreviated data preparation for the Wine Quality Problem (Project 1)"
   ]
  },
  {
   "cell_type": "code",
   "execution_count": 1,
   "metadata": {
    "executionInfo": {
     "elapsed": 3205,
     "status": "ok",
     "timestamp": 1616183640928,
     "user": {
      "displayName": "Rafi Ahmed",
      "photoUrl": "",
      "userId": "10177168856407500033"
     },
     "user_tz": 240
    },
    "id": "XrcPuh9-KY0j"
   },
   "outputs": [],
   "source": [
    "\n",
    "# Import Required Libraries  \n",
    "import matplotlib.pyplot as plt \n",
    "import numpy as np \n",
    "# This time we need to also import pandas\n",
    "import pandas as pd \n",
    "\n",
    "# Read in white wine data \n",
    "# USES PANDAS (pd) to create a PANDAS DataFrame OBJECT:\n",
    "white = pd.read_csv(\"http://archive.ics.uci.edu/ml/machine-learning-databases/wine-quality/winequality-white.csv\", sep =';') \n",
    "\n",
    "# Read in red wine data \n",
    "# USES PANDAS (pd) to create a PANDAS DataFrame OBJECT:\n",
    "red = pd.read_csv(\"http://archive.ics.uci.edu/ml/machine-learning-databases/wine-quality/winequality-red.csv\", sep =';') \n",
    "\n",
    "# Add `type` column to `red` with price one \n",
    "red['type'] = 1\n",
    "  \n",
    "# Add `type` column to `white` with price zero \n",
    "white['type'] = 0\n",
    "  \n",
    "# Append `white` to `red` \n",
    "# AFTER THIS WE HAVE ALL WINES (red and white) in a SINGLE pandas DataFrame\n",
    "wines = red.append(white, ignore_index = True) \n",
    "\n",
    "# Import SKLEARN\n",
    "import sklearn\n",
    "# Import `train_test_split` from `sklearn.model_selection` \n",
    "from sklearn.model_selection import train_test_split \n",
    "\n",
    "# Specify the  data - \n",
    "X1 = wines.iloc[:, 0:11]\n",
    "X2 = wines.iloc[:,12]\n",
    "X = pd.concat([X1,X2],axis = 1)\n",
    "\n",
    "# Specify the QUALITY target labels and flatten the array \n",
    "y = np.ravel(wines.quality) \n",
    "\n",
    "# Splitting the data set for training and validating  \n",
    "X_train, X_val, y_train, y_val = train_test_split( \n",
    "                 X, y, test_size = 0.25, random_state = 45) \n",
    "\n",
    "# CONVERTING X_train & X_test DataFrame s to TF tensors\n",
    "# import tensorflow as tf \n",
    "\n",
    "Xtrain = X_train.to_numpy()\n",
    "Xval = X_val.to_numpy()\n",
    "\n",
    " # NOW, IN ADDITION, CREATE THE TARGETS AS ONE-HOT-ENCODED 3 quality LEVELS"
   ]
  },
  {
   "cell_type": "code",
   "execution_count": 2,
   "metadata": {
    "colab": {
     "base_uri": "https://localhost:8080/"
    },
    "executionInfo": {
     "elapsed": 3196,
     "status": "ok",
     "timestamp": 1616183640932,
     "user": {
      "displayName": "Rafi Ahmed",
      "photoUrl": "",
      "userId": "10177168856407500033"
     },
     "user_tz": 240
    },
    "id": "HImrn2sHKvz_",
    "outputId": "8301a498-8d1f-40c3-af7d-61a909ef9d10"
   },
   "outputs": [
    {
     "data": {
      "text/plain": [
       "array([5, 4, 6, 5, 5, 6, 7, 6, 5, 8, 5])"
      ]
     },
     "execution_count": 2,
     "metadata": {
      "tags": []
     },
     "output_type": "execute_result"
    }
   ],
   "source": [
    "y_train[272:283]"
   ]
  },
  {
   "cell_type": "code",
   "execution_count": 3,
   "metadata": {
    "executionInfo": {
     "elapsed": 3194,
     "status": "ok",
     "timestamp": 1616183640932,
     "user": {
      "displayName": "Rafi Ahmed",
      "photoUrl": "",
      "userId": "10177168856407500033"
     },
     "user_tz": 240
    },
    "id": "or6-RKTFKOMw"
   },
   "outputs": [],
   "source": [
    " # First create rank-1 arrays where 3,4,5,6,7,8,9 are mapped to 1 or 2 or 3\n",
    "yt1 = (y_train -4) /3\n",
    "yt2 = (  ( yt1 + abs(yt1) ) /2 )\n",
    "yt3 = (np.ceil(yt2)) + 1\n",
    "train_labels = yt3.astype(int)\n",
    "\n",
    "yv1 = (y_val -4) /3\n",
    "yv2 = (  ( yv1 + abs(yv1) ) /2 )\n",
    "yv3 = (np.ceil(yv2)) + 1\n",
    "val_labels = yv3.astype(int)"
   ]
  },
  {
   "cell_type": "code",
   "execution_count": 4,
   "metadata": {
    "colab": {
     "base_uri": "https://localhost:8080/"
    },
    "executionInfo": {
     "elapsed": 3190,
     "status": "ok",
     "timestamp": 1616183640933,
     "user": {
      "displayName": "Rafi Ahmed",
      "photoUrl": "",
      "userId": "10177168856407500033"
     },
     "user_tz": 240
    },
    "id": "RmSc8yQ5NgQe",
    "outputId": "055b661a-4251-4b0e-bbf2-448c4efbf9fc"
   },
   "outputs": [
    {
     "data": {
      "text/plain": [
       "array([2, 1, 2, 2, 2, 2, 2, 2, 2, 3, 2])"
      ]
     },
     "execution_count": 4,
     "metadata": {
      "tags": []
     },
     "output_type": "execute_result"
    }
   ],
   "source": [
    "train_labels[272:283]"
   ]
  },
  {
   "cell_type": "code",
   "execution_count": 5,
   "metadata": {
    "colab": {
     "base_uri": "https://localhost:8080/"
    },
    "executionInfo": {
     "elapsed": 3186,
     "status": "ok",
     "timestamp": 1616183640933,
     "user": {
      "displayName": "Rafi Ahmed",
      "photoUrl": "",
      "userId": "10177168856407500033"
     },
     "user_tz": 240
    },
    "id": "Cs-J7sRmKhGf",
    "outputId": "eaa61277-3287-4b4e-9a78-79216e808f85"
   },
   "outputs": [
    {
     "data": {
      "text/plain": [
       "array([[0., 1., 0.],\n",
       "       [1., 0., 0.],\n",
       "       [0., 1., 0.],\n",
       "       [0., 1., 0.],\n",
       "       [0., 1., 0.],\n",
       "       [0., 1., 0.],\n",
       "       [0., 1., 0.],\n",
       "       [0., 1., 0.],\n",
       "       [0., 1., 0.],\n",
       "       [0., 0., 1.],\n",
       "       [0., 1., 0.]])"
      ]
     },
     "execution_count": 5,
     "metadata": {
      "tags": []
     },
     "output_type": "execute_result"
    }
   ],
   "source": [
    "# NOW, ONE-HOT ENCODING OF BOTH TARGET ARRAYS\n",
    "# define a function to do the one-hot-encoding of output labels\n",
    "\n",
    "def to_one_hot(labels, dimension=3):\n",
    "    results = np.zeros((len(labels), dimension))\n",
    "    for i, label in enumerate(labels-1):\n",
    "        results[i, label] = 1.\n",
    "    return results\n",
    "\n",
    "one_hot_train_labels = to_one_hot(train_labels)\n",
    "one_hot_val_labels = to_one_hot(val_labels)\n",
    "\n",
    "# SO, AFTER EXECUTING THIS CELL, YOU WILL HAVE:\n",
    "# FOR TRAINING:\n",
    "#   Xtrain (4872, 12) ... y_train (4872,) ... one_hot_train_labels (4872,3)\n",
    " # FOR VALIDATING:\n",
    "#   Xval (1625, 12) ... y_val (1625,) ... one_hot_val_labels (1625,3)\n",
    "\n",
    "one_hot_train_labels[272:283,]"
   ]
  },
  {
   "cell_type": "code",
   "execution_count": 6,
   "metadata": {
    "colab": {
     "base_uri": "https://localhost:8080/",
     "height": 195
    },
    "executionInfo": {
     "elapsed": 3181,
     "status": "ok",
     "timestamp": 1616183640934,
     "user": {
      "displayName": "Rafi Ahmed",
      "photoUrl": "",
      "userId": "10177168856407500033"
     },
     "user_tz": 240
    },
    "id": "V2eibNgmEhsy",
    "outputId": "345f0567-8ee3-45ef-c869-298ab9666534"
   },
   "outputs": [
    {
     "data": {
      "text/html": [
       "<div>\n",
       "<style scoped>\n",
       "    .dataframe tbody tr th:only-of-type {\n",
       "        vertical-align: middle;\n",
       "    }\n",
       "\n",
       "    .dataframe tbody tr th {\n",
       "        vertical-align: top;\n",
       "    }\n",
       "\n",
       "    .dataframe thead th {\n",
       "        text-align: right;\n",
       "    }\n",
       "</style>\n",
       "<table border=\"1\" class=\"dataframe\">\n",
       "  <thead>\n",
       "    <tr style=\"text-align: right;\">\n",
       "      <th></th>\n",
       "      <th>fixed acidity</th>\n",
       "      <th>volatile acidity</th>\n",
       "      <th>citric acid</th>\n",
       "      <th>residual sugar</th>\n",
       "      <th>chlorides</th>\n",
       "      <th>free sulfur dioxide</th>\n",
       "      <th>total sulfur dioxide</th>\n",
       "      <th>density</th>\n",
       "      <th>pH</th>\n",
       "      <th>sulphates</th>\n",
       "      <th>alcohol</th>\n",
       "      <th>quality</th>\n",
       "      <th>type</th>\n",
       "    </tr>\n",
       "  </thead>\n",
       "  <tbody>\n",
       "    <tr>\n",
       "      <th>4391</th>\n",
       "      <td>7.3</td>\n",
       "      <td>0.22</td>\n",
       "      <td>0.37</td>\n",
       "      <td>15.5</td>\n",
       "      <td>0.048</td>\n",
       "      <td>70.0</td>\n",
       "      <td>203.0</td>\n",
       "      <td>0.99899</td>\n",
       "      <td>3.25</td>\n",
       "      <td>0.77</td>\n",
       "      <td>9.4</td>\n",
       "      <td>5</td>\n",
       "      <td>0</td>\n",
       "    </tr>\n",
       "    <tr>\n",
       "      <th>3856</th>\n",
       "      <td>5.9</td>\n",
       "      <td>0.20</td>\n",
       "      <td>0.23</td>\n",
       "      <td>1.5</td>\n",
       "      <td>0.037</td>\n",
       "      <td>38.0</td>\n",
       "      <td>93.0</td>\n",
       "      <td>0.99021</td>\n",
       "      <td>3.36</td>\n",
       "      <td>0.49</td>\n",
       "      <td>12.0</td>\n",
       "      <td>6</td>\n",
       "      <td>0</td>\n",
       "    </tr>\n",
       "    <tr>\n",
       "      <th>4008</th>\n",
       "      <td>6.1</td>\n",
       "      <td>0.25</td>\n",
       "      <td>0.48</td>\n",
       "      <td>15.8</td>\n",
       "      <td>0.052</td>\n",
       "      <td>25.0</td>\n",
       "      <td>94.0</td>\n",
       "      <td>0.99782</td>\n",
       "      <td>3.07</td>\n",
       "      <td>0.45</td>\n",
       "      <td>9.2</td>\n",
       "      <td>6</td>\n",
       "      <td>0</td>\n",
       "    </tr>\n",
       "    <tr>\n",
       "      <th>1167</th>\n",
       "      <td>7.4</td>\n",
       "      <td>0.23</td>\n",
       "      <td>0.43</td>\n",
       "      <td>1.4</td>\n",
       "      <td>0.044</td>\n",
       "      <td>22.0</td>\n",
       "      <td>113.0</td>\n",
       "      <td>0.99380</td>\n",
       "      <td>3.22</td>\n",
       "      <td>0.62</td>\n",
       "      <td>10.6</td>\n",
       "      <td>6</td>\n",
       "      <td>0</td>\n",
       "    </tr>\n",
       "    <tr>\n",
       "      <th>3029</th>\n",
       "      <td>7.1</td>\n",
       "      <td>0.47</td>\n",
       "      <td>0.29</td>\n",
       "      <td>14.8</td>\n",
       "      <td>0.024</td>\n",
       "      <td>22.0</td>\n",
       "      <td>142.0</td>\n",
       "      <td>0.99518</td>\n",
       "      <td>3.12</td>\n",
       "      <td>0.48</td>\n",
       "      <td>12.0</td>\n",
       "      <td>8</td>\n",
       "      <td>0</td>\n",
       "    </tr>\n",
       "  </tbody>\n",
       "</table>\n",
       "</div>"
      ],
      "text/plain": [
       "      fixed acidity  volatile acidity  citric acid  ...  alcohol  quality  type\n",
       "4391            7.3              0.22         0.37  ...      9.4        5     0\n",
       "3856            5.9              0.20         0.23  ...     12.0        6     0\n",
       "4008            6.1              0.25         0.48  ...      9.2        6     0\n",
       "1167            7.4              0.23         0.43  ...     10.6        6     0\n",
       "3029            7.1              0.47         0.29  ...     12.0        8     0\n",
       "\n",
       "[5 rows x 13 columns]"
      ]
     },
     "execution_count": 6,
     "metadata": {
      "tags": []
     },
     "output_type": "execute_result"
    }
   ],
   "source": [
    "white.sample(5)"
   ]
  },
  {
   "cell_type": "code",
   "execution_count": 42,
   "metadata": {
    "executionInfo": {
     "elapsed": 556,
     "status": "ok",
     "timestamp": 1616199031705,
     "user": {
      "displayName": "Rafi Ahmed",
      "photoUrl": "",
      "userId": "10177168856407500033"
     },
     "user_tz": 240
    },
    "id": "t2WVDQiFEhsz"
   },
   "outputs": [],
   "source": [
    "from keras import models\n",
    "from keras import layers\n",
    "\n",
    "def regmodl1():\n",
    "    # regmodl1 contains 2 hidden layers\n",
    "    model = models.Sequential()\n",
    "    model.add(layers.Dense(16, activation='relu',\n",
    "                           input_shape=(Xtrain.shape[1],)))\n",
    "    model.add(layers.Dense(16, activation='relu'))\n",
    "    model.add(layers.Dense(1))\n",
    "    model.compile(optimizer='rmsprop', loss='mse', metrics=['mae'])\n",
    "    return model"
   ]
  },
  {
   "cell_type": "code",
   "execution_count": 43,
   "metadata": {
    "executionInfo": {
     "elapsed": 338085,
     "status": "ok",
     "timestamp": 1616199370754,
     "user": {
      "displayName": "Rafi Ahmed",
      "photoUrl": "",
      "userId": "10177168856407500033"
     },
     "user_tz": 240
    },
    "id": "MSKxNgVdEhsz"
   },
   "outputs": [],
   "source": [
    "num_epochs = 50\n",
    "# Build the Keras model (already compiled)\n",
    "model1 = regmodl1()\n",
    "# Train the model (in silent mode, verbose=0)\n",
    "history1 = model1.fit(Xtrain, y_train,validation_data=(Xval, y_val),\n",
    "          epochs=num_epochs, batch_size=1, verbose=0)\n",
    "# Evaluate the model on the validation data\n",
    "#val_mse, val_mae = model.evaluate(Xval, Xval, verbose=0)\n",
    "#all_scores.append(val_mae)\n",
    "\n",
    "training_loss1 = history1.history['loss']\n",
    "mae_history1 = history1.history['val_mae']\n",
    "mse_history1 = history1.history['val_loss']\n",
    "#all_mae_histories.append(mae_history)"
   ]
  },
  {
   "cell_type": "code",
   "execution_count": 44,
   "metadata": {
    "executionInfo": {
     "elapsed": 532,
     "status": "ok",
     "timestamp": 1616199371302,
     "user": {
      "displayName": "Rafi Ahmed",
      "photoUrl": "",
      "userId": "10177168856407500033"
     },
     "user_tz": 240
    },
    "id": "iNHx0VLjuuKf"
   },
   "outputs": [],
   "source": [
    "def smooth_curve(points, factor=0.9):\n",
    "    smoothed_points = []\n",
    "    for point in points:\n",
    "        if smoothed_points:\n",
    "            previous = smoothed_points[-1]\n",
    "            smoothed_points.append(previous * factor + point * (1 - factor))\n",
    "        else:\n",
    "            smoothed_points.append(point)\n",
    "    return smoothed_points\n",
    "\n",
    "smooth_mse_history1 = smooth_curve(mse_history1)"
   ]
  },
  {
   "cell_type": "code",
   "execution_count": 45,
   "metadata": {
    "colab": {
     "base_uri": "https://localhost:8080/",
     "height": 312
    },
    "executionInfo": {
     "elapsed": 757,
     "status": "ok",
     "timestamp": 1616199371534,
     "user": {
      "displayName": "Rafi Ahmed",
      "photoUrl": "",
      "userId": "10177168856407500033"
     },
     "user_tz": 240
    },
    "id": "1R4WZ-2DEhs0",
    "outputId": "7e373692-4d6f-4776-f80d-d3e10ad6b156"
   },
   "outputs": [
    {
     "data": {
      "image/png": "[encoded data removed]",
      "text/plain": [
       "<Figure size 432x288 with 1 Axes>"
      ]
     },
     "metadata": {
      "needs_background": "light",
      "tags": []
     },
     "output_type": "display_data"
    },
    {
     "data": {
      "text/plain": [
       "<Figure size 432x288 with 0 Axes>"
      ]
     },
     "metadata": {
      "tags": []
     },
     "output_type": "display_data"
    }
   ],
   "source": [
    "\n",
    "plt.plot(training_loss1)\n",
    "plt.plot(smooth_mse_history1)\n",
    "plt.title('Regression Model 1 loss')\n",
    "plt.ylabel('loss')\n",
    "plt.xlabel('epoch')\n",
    "plt.legend(['training loss', 'validation loss'], loc='upper right')\n",
    "plt.show()\n",
    "plt.savefig(\"Regression Model 1 loss.png\")"
   ]
  },
  {
   "cell_type": "code",
   "execution_count": 46,
   "metadata": {
    "executionInfo": {
     "elapsed": 752,
     "status": "ok",
     "timestamp": 1616199371535,
     "user": {
      "displayName": "Rafi Ahmed",
      "photoUrl": "",
      "userId": "10177168856407500033"
     },
     "user_tz": 240
    },
    "id": "HBCck7CIcW7h"
   },
   "outputs": [],
   "source": [
    "def regmodl2():\n",
    "    # Regression model consists of input and output layer including 3 hidden layers\n",
    "    model = models.Sequential()\n",
    "    model.add(layers.Dense(64, activation='relu',\n",
    "                           input_shape=(Xtrain.shape[1],)))\n",
    "    model.add(layers.Dense(64, activation='relu'))\n",
    "    model.add(layers.Dense(64, activation='relu'))\n",
    "    model.add(layers.Dense(1))\n",
    "    model.compile(optimizer='rmsprop', loss='mse', metrics=['mae'])\n",
    "    return model"
   ]
  },
  {
   "cell_type": "code",
   "execution_count": 47,
   "metadata": {
    "executionInfo": {
     "elapsed": 374019,
     "status": "ok",
     "timestamp": 1616199744806,
     "user": {
      "displayName": "Rafi Ahmed",
      "photoUrl": "",
      "userId": "10177168856407500033"
     },
     "user_tz": 240
    },
    "id": "bVGgKvU5jwka"
   },
   "outputs": [],
   "source": [
    "num_epochs2 = 50\n",
    "# Build the Keras model (already compiled)\n",
    "model2 = regmodl2()\n",
    "# Train the model (in silent mode, verbose=0)\n",
    "history2 = model2.fit(Xtrain, y_train,validation_data=(Xval, y_val),\n",
    "          epochs=num_epochs2, batch_size=1, verbose=0)\n",
    "# Evaluate the model on the validation data\n",
    "#val_mse, val_mae = model.evaluate(Xval, Xval, verbose=0)\n",
    "#all_scores.append(val_mae)\n",
    "\n",
    "training_loss2 = history2.history['loss']\n",
    "#mae_history2 = history2.history['val_mae']\n",
    "mse_history2 = history2.history['val_loss']\n",
    "\n",
    "smooth_mse_history2 = smooth_curve(mse_history2)"
   ]
  },
  {
   "cell_type": "code",
   "execution_count": 48,
   "metadata": {
    "colab": {
     "base_uri": "https://localhost:8080/",
     "height": 295
    },
    "executionInfo": {
     "elapsed": 374016,
     "status": "ok",
     "timestamp": 1616199744807,
     "user": {
      "displayName": "Rafi Ahmed",
      "photoUrl": "",
      "userId": "10177168856407500033"
     },
     "user_tz": 240
    },
    "id": "4XtRmj2SK-cj",
    "outputId": "cf719b65-8d63-4b9c-880a-e9b0e65f1f3e"
   },
   "outputs": [
    {
     "data": {
      "image/png": "[encoded data removed]",
      "text/plain": [
       "<Figure size 432x288 with 1 Axes>"
      ]
     },
     "metadata": {
      "needs_background": "light",
      "tags": []
     },
     "output_type": "display_data"
    }
   ],
   "source": [
    "plt.plot(training_loss2,'o')\n",
    "plt.plot(smooth_mse_history2)\n",
    "#plt.plot(mse_history2)\n",
    "plt.title('Regression Model 2 Loss')\n",
    "plt.ylabel('loss')\n",
    "plt.xlabel('epoch')\n",
    "plt.legend(['training loss', 'validation loss'], loc='upper right')\n",
    "plt.show()\n"
   ]
  },
  {
   "cell_type": "code",
   "execution_count": 20,
   "metadata": {
    "executionInfo": {
     "elapsed": 733,
     "status": "ok",
     "timestamp": 1616194559662,
     "user": {
      "displayName": "Rafi Ahmed",
      "photoUrl": "",
      "userId": "10177168856407500033"
     },
     "user_tz": 240
    },
    "id": "sE4Ye8FPK--h"
   },
   "outputs": [],
   "source": [
    "def regmodl3():\n",
    "    # Regression model consists of input and output layer including 3 hidden layers and each with 64 processing elements\n",
    "    model = models.Sequential()\n",
    "    model.add(layers.Dense(64, activation='relu',\n",
    "                           input_shape=(Xtrain.shape[1],)))\n",
    "    model.add(layers.Dense(64, activation='relu'))\n",
    "    model.add(layers.Dense(64, activation='relu'))\n",
    "    #model.add(layers.Dense(64, activation='relu'))\n",
    "    model.add(layers.Dense(1))\n",
    "    model.compile(optimizer='rmsprop', loss='mse', metrics=['mae'])\n",
    "    return model"
   ]
  },
  {
   "cell_type": "code",
   "execution_count": 22,
   "metadata": {
    "colab": {
     "base_uri": "https://localhost:8080/"
    },
    "executionInfo": {
     "elapsed": 374928,
     "status": "ok",
     "timestamp": 1616194942992,
     "user": {
      "displayName": "Rafi Ahmed",
      "photoUrl": "",
      "userId": "10177168856407500033"
     },
     "user_tz": 240
    },
    "id": "0dj2LnBCK_mQ",
    "outputId": "f98d757f-391c-4c00-acfb-eb49d32be823"
   },
   "outputs": [
    {
     "name": "stdout",
     "output_type": "stream",
     "text": [
      "Epoch 1/36\n",
      "4872/4872 [==============================] - 11s 2ms/step - loss: 3.5877 - mae: 1.2894 - val_loss: 0.8654 - val_mae: 0.7259\n",
      "Epoch 2/36\n",
      "4872/4872 [==============================] - 10s 2ms/step - loss: 0.7872 - mae: 0.6868 - val_loss: 0.7334 - val_mae: 0.6690\n",
      "Epoch 3/36\n",
      "4872/4872 [==============================] - 10s 2ms/step - loss: 0.7146 - mae: 0.6608 - val_loss: 1.5509 - val_mae: 1.0113\n",
      "Epoch 4/36\n",
      "4872/4872 [==============================] - 10s 2ms/step - loss: 0.6881 - mae: 0.6465 - val_loss: 0.7676 - val_mae: 0.6910\n",
      "Epoch 5/36\n",
      "4872/4872 [==============================] - 10s 2ms/step - loss: 0.6398 - mae: 0.6254 - val_loss: 0.6807 - val_mae: 0.6487\n",
      "Epoch 6/36\n",
      "4872/4872 [==============================] - 10s 2ms/step - loss: 0.6400 - mae: 0.6297 - val_loss: 0.5769 - val_mae: 0.5845\n",
      "Epoch 7/36\n",
      "4872/4872 [==============================] - 10s 2ms/step - loss: 0.6341 - mae: 0.6243 - val_loss: 0.6133 - val_mae: 0.6131\n",
      "Epoch 8/36\n",
      "4872/4872 [==============================] - 11s 2ms/step - loss: 0.6161 - mae: 0.6118 - val_loss: 0.6292 - val_mae: 0.6081\n",
      "Epoch 9/36\n",
      "4872/4872 [==============================] - 10s 2ms/step - loss: 0.5845 - mae: 0.5961 - val_loss: 0.6137 - val_mae: 0.6123\n",
      "Epoch 10/36\n",
      "4872/4872 [==============================] - 10s 2ms/step - loss: 0.6151 - mae: 0.6091 - val_loss: 0.5611 - val_mae: 0.5880\n",
      "Epoch 11/36\n",
      "4872/4872 [==============================] - 10s 2ms/step - loss: 0.5957 - mae: 0.6039 - val_loss: 0.5549 - val_mae: 0.5766\n",
      "Epoch 12/36\n",
      "4872/4872 [==============================] - 10s 2ms/step - loss: 0.6044 - mae: 0.6032 - val_loss: 0.7525 - val_mae: 0.6646\n",
      "Epoch 13/36\n",
      "4872/4872 [==============================] - 10s 2ms/step - loss: 0.5976 - mae: 0.5982 - val_loss: 0.5468 - val_mae: 0.5774\n",
      "Epoch 14/36\n",
      "4872/4872 [==============================] - 11s 2ms/step - loss: 0.5789 - mae: 0.5949 - val_loss: 0.8210 - val_mae: 0.6999\n",
      "Epoch 15/36\n",
      "4872/4872 [==============================] - 10s 2ms/step - loss: 0.5961 - mae: 0.6039 - val_loss: 0.5593 - val_mae: 0.5794\n",
      "Epoch 16/36\n",
      "4872/4872 [==============================] - 11s 2ms/step - loss: 0.5870 - mae: 0.5941 - val_loss: 0.5659 - val_mae: 0.5861\n",
      "Epoch 17/36\n",
      "4872/4872 [==============================] - 11s 2ms/step - loss: 0.6256 - mae: 0.6152 - val_loss: 0.5829 - val_mae: 0.5849\n",
      "Epoch 18/36\n",
      "4872/4872 [==============================] - 11s 2ms/step - loss: 0.5939 - mae: 0.5970 - val_loss: 0.5456 - val_mae: 0.5765\n",
      "Epoch 19/36\n",
      "4872/4872 [==============================] - 11s 2ms/step - loss: 0.5918 - mae: 0.5995 - val_loss: 0.5671 - val_mae: 0.5827\n",
      "Epoch 20/36\n",
      "4872/4872 [==============================] - 11s 2ms/step - loss: 0.5944 - mae: 0.5988 - val_loss: 0.5858 - val_mae: 0.5969\n",
      "Epoch 21/36\n",
      "4872/4872 [==============================] - 10s 2ms/step - loss: 0.5895 - mae: 0.6002 - val_loss: 0.6005 - val_mae: 0.5956\n",
      "Epoch 22/36\n",
      "4872/4872 [==============================] - 10s 2ms/step - loss: 0.5950 - mae: 0.6013 - val_loss: 0.5448 - val_mae: 0.5769\n",
      "Epoch 23/36\n",
      "4872/4872 [==============================] - 10s 2ms/step - loss: 0.5674 - mae: 0.5853 - val_loss: 0.5868 - val_mae: 0.6064\n",
      "Epoch 24/36\n",
      "4872/4872 [==============================] - 10s 2ms/step - loss: 0.5859 - mae: 0.5921 - val_loss: 0.5955 - val_mae: 0.6064\n",
      "Epoch 25/36\n",
      "4872/4872 [==============================] - 10s 2ms/step - loss: 0.5664 - mae: 0.5888 - val_loss: 0.5607 - val_mae: 0.5829\n",
      "Epoch 26/36\n",
      "4872/4872 [==============================] - 10s 2ms/step - loss: 0.5687 - mae: 0.5956 - val_loss: 0.5422 - val_mae: 0.5800\n",
      "Epoch 27/36\n",
      "4872/4872 [==============================] - 10s 2ms/step - loss: 0.5623 - mae: 0.5853 - val_loss: 0.6215 - val_mae: 0.6184\n",
      "Epoch 28/36\n",
      "4872/4872 [==============================] - 10s 2ms/step - loss: 0.5602 - mae: 0.5872 - val_loss: 0.5625 - val_mae: 0.5811\n",
      "Epoch 29/36\n",
      "4872/4872 [==============================] - 10s 2ms/step - loss: 0.5465 - mae: 0.5772 - val_loss: 0.5406 - val_mae: 0.5739\n",
      "Epoch 30/36\n",
      "4872/4872 [==============================] - 10s 2ms/step - loss: 0.5646 - mae: 0.5873 - val_loss: 0.5977 - val_mae: 0.6116\n",
      "Epoch 31/36\n",
      "4872/4872 [==============================] - 10s 2ms/step - loss: 0.5648 - mae: 0.5881 - val_loss: 0.5442 - val_mae: 0.5759\n",
      "Epoch 32/36\n",
      "4872/4872 [==============================] - 10s 2ms/step - loss: 0.5630 - mae: 0.5848 - val_loss: 0.5386 - val_mae: 0.5737\n",
      "Epoch 33/36\n",
      "4872/4872 [==============================] - 10s 2ms/step - loss: 0.5596 - mae: 0.5796 - val_loss: 0.5768 - val_mae: 0.5844\n",
      "Epoch 34/36\n",
      "4872/4872 [==============================] - 10s 2ms/step - loss: 0.5432 - mae: 0.5783 - val_loss: 0.6345 - val_mae: 0.6144\n",
      "Epoch 35/36\n",
      "4872/4872 [==============================] - 10s 2ms/step - loss: 0.5748 - mae: 0.5870 - val_loss: 0.5321 - val_mae: 0.5717\n",
      "Epoch 36/36\n",
      "4872/4872 [==============================] - 10s 2ms/step - loss: 0.5500 - mae: 0.5820 - val_loss: 0.7139 - val_mae: 0.6730\n"
     ]
    }
   ],
   "source": [
    "num_epochs3 = 36\n",
    "# Build the Keras model (already compiled)\n",
    "model3 = regmodl3()\n",
    "# Train the model (in silent mode, verbose=0)\n",
    "history3 = model3.fit(Xtrain, y_train,validation_data=(Xval, y_val),\n",
    "          epochs=num_epochs3, batch_size=1, verbose=1)\n",
    "# Evaluate the model on the validation data\n",
    "#val_mse, val_mae = model.evaluate(Xval, Xval, verbose=0)\n",
    "#all_scores.append(val_mae)\n",
    "\n",
    "training_loss3 = history3.history['loss']\n",
    "mae_history3 = history3.history['val_mae']\n",
    "mse_history3 = history3.history['val_loss']\n",
    "\n",
    "smooth_mse_history3 = smooth_curve(mse_history3)"
   ]
  },
  {
   "cell_type": "code",
   "execution_count": 23,
   "metadata": {
    "colab": {
     "base_uri": "https://localhost:8080/",
     "height": 312
    },
    "executionInfo": {
     "elapsed": 441,
     "status": "ok",
     "timestamp": 1616194949742,
     "user": {
      "displayName": "Rafi Ahmed",
      "photoUrl": "",
      "userId": "10177168856407500033"
     },
     "user_tz": 240
    },
    "id": "X5BBBpqdRmGx",
    "outputId": "53993adf-8806-4270-88d9-f7bd2e8c55e0"
   },
   "outputs": [
    {
     "data": {
      "image/png": "[encoded data removed]",
      "text/plain": [
       "<Figure size 432x288 with 1 Axes>"
      ]
     },
     "metadata": {
      "needs_background": "light",
      "tags": []
     },
     "output_type": "display_data"
    },
    {
     "data": {
      "text/plain": [
       "0.7139195203781128"
      ]
     },
     "execution_count": 23,
     "metadata": {
      "tags": []
     },
     "output_type": "execute_result"
    }
   ],
   "source": [
    "plt.plot(training_loss3,'o')\n",
    "plt.plot(smooth_mse_history3)\n",
    "#plt.plot(mse_history3)\n",
    "plt.title('Regression Model 3 Loss')\n",
    "plt.ylabel('loss')\n",
    "plt.xlabel('epoch')\n",
    "plt.legend(['training loss', 'validation loss'], loc='upper right')\n",
    "plt.show()\n",
    "mse_history3[-1]"
   ]
  },
  {
   "cell_type": "code",
   "execution_count": 49,
   "metadata": {
    "colab": {
     "base_uri": "https://localhost:8080/"
    },
    "executionInfo": {
     "elapsed": 1062,
     "status": "ok",
     "timestamp": 1616222652025,
     "user": {
      "displayName": "Rafi Ahmed",
      "photoUrl": "",
      "userId": "10177168856407500033"
     },
     "user_tz": 240
    },
    "id": "I7kmgE0vdAHN",
    "outputId": "33470bb3-c6ea-4843-8f3b-9c4a8b6092c8"
   },
   "outputs": [
    {
     "name": "stdout",
     "output_type": "stream",
     "text": [
      "INFO:tensorflow:Assets written to: my_model1/assets\n"
     ]
    }
   ],
   "source": [
    "# Saved model for regmodl3\n",
    "\n",
    "model3.save(\"my_model1\")"
   ]
  },
  {
   "cell_type": "code",
   "execution_count": null,
   "metadata": {
    "executionInfo": {
     "elapsed": 713683,
     "status": "aborted",
     "timestamp": 1616184351463,
     "user": {
      "displayName": "Rafi Ahmed",
      "photoUrl": "",
      "userId": "10177168856407500033"
     },
     "user_tz": 240
    },
    "id": "2vFzXp-r41nt"
   },
   "outputs": [],
   "source": []
  },
  {
   "cell_type": "code",
   "execution_count": null,
   "metadata": {
    "executionInfo": {
     "elapsed": 713682,
     "status": "aborted",
     "timestamp": 1616184351463,
     "user": {
      "displayName": "Rafi Ahmed",
      "photoUrl": "",
      "userId": "10177168856407500033"
     },
     "user_tz": 240
    },
    "id": "RngrYudy48iq"
   },
   "outputs": [],
   "source": [
    "#for layer in model.layers: print(layer.get_config(), layer.get_weights())\n",
    "\n",
    "#model3.layers[3].get_config()\n",
    "\n",
    "#np.save(\"saved_weights.npy\", weights)\n",
    "#array_rain_fall_npy = np.load(\"saved_weights.npy\")\n",
    "\n"
   ]
  },
  {
   "cell_type": "code",
   "execution_count": 50,
   "metadata": {
    "colab": {
     "base_uri": "https://localhost:8080/"
    },
    "executionInfo": {
     "elapsed": 1364,
     "status": "ok",
     "timestamp": 1616222657919,
     "user": {
      "displayName": "Rafi Ahmed",
      "photoUrl": "",
      "userId": "10177168856407500033"
     },
     "user_tz": 240
    },
    "id": "iAxuCxjg8o7O",
    "outputId": "958108c0-827f-4f69-d74b-691eb9d9e861"
   },
   "outputs": [
    {
     "name": "stdout",
     "output_type": "stream",
     "text": [
      "51/51 [==============================] - 0s 1ms/step - loss: 0.7139 - mae: 0.6730\n",
      "  adding: content/my_model1/ (stored 0%)\n",
      "  adding: content/my_model1/variables/ (stored 0%)\n",
      "  adding: content/my_model1/variables/variables.data-00000-of-00001 (deflated 49%)\n",
      "  adding: content/my_model1/variables/variables.index (deflated 65%)\n",
      "  adding: content/my_model1/assets/ (stored 0%)\n",
      "  adding: content/my_model1/saved_model.pb (deflated 89%)\n"
     ]
    }
   ],
   "source": [
    "model4 = models.load_model(\"my_model1\")\n",
    "\n",
    "\n",
    "val_mse, val_mae = model4.evaluate(Xval, y_val, verbose=0)\n",
    "\n",
    "loss, accuracy = model4.evaluate(Xval, y_val, verbose=1)\n",
    "#all_scores.append(val_mae)\n",
    "#model4.get_weights()\n",
    "\n",
    "!zip -r /content/my_model1.zip  /content/my_model1\n",
    "\n",
    "#from google.colab import files\n",
    "#files.download('my_model.zip')\n",
    "\n"
   ]
  },
  {
   "cell_type": "code",
   "execution_count": null,
   "metadata": {
    "executionInfo": {
     "elapsed": 713680,
     "status": "aborted",
     "timestamp": 1616184351465,
     "user": {
      "displayName": "Rafi Ahmed",
      "photoUrl": "",
      "userId": "10177168856407500033"
     },
     "user_tz": 240
    },
    "id": "E_mP9RjDAgl7"
   },
   "outputs": [],
   "source": [
    "!unzip my_model.zip"
   ]
  },
  {
   "cell_type": "code",
   "execution_count": null,
   "metadata": {
    "executionInfo": {
     "elapsed": 713678,
     "status": "aborted",
     "timestamp": 1616184351465,
     "user": {
      "displayName": "Rafi Ahmed",
      "photoUrl": "",
      "userId": "10177168856407500033"
     },
     "user_tz": 240
    },
    "id": "wa5VU_AjCKPz"
   },
   "outputs": [],
   "source": [
    "accuracy"
   ]
  },
  {
   "cell_type": "code",
   "execution_count": null,
   "metadata": {
    "executionInfo": {
     "elapsed": 713678,
     "status": "aborted",
     "timestamp": 1616184351466,
     "user": {
      "displayName": "Rafi Ahmed",
      "photoUrl": "",
      "userId": "10177168856407500033"
     },
     "user_tz": 240
    },
    "id": "1xdU7_jyCOVB"
   },
   "outputs": [],
   "source": []
  },
  {
   "cell_type": "code",
   "execution_count": null,
   "metadata": {
    "executionInfo": {
     "elapsed": 713676,
     "status": "aborted",
     "timestamp": 1616184351466,
     "user": {
      "displayName": "Rafi Ahmed",
      "photoUrl": "",
      "userId": "10177168856407500033"
     },
     "user_tz": 240
    },
    "id": "x7t1SElbE0nJ"
   },
   "outputs": [],
   "source": []
  }
 ],
 "metadata": {
  "accelerator": "GPU",
  "colab": {
   "collapsed_sections": [],
   "machine_shape": "hm",
   "name": " WQ_Regression_Rafi.ipynb",
   "provenance": [
    {
     "file_id": "1nk2s4U7BQ8GDwE3VKHBe1cbvyZgOK5zA",
     "timestamp": 1615870639444
    }
   ]
  },
  "kernelspec": {
   "display_name": "Python 3",
   "language": "python",
   "name": "python3"
  },
  "language_info": {
   "codemirror_mode": {
    "name": "ipython",
    "version": 3
   },
   "file_extension": ".py",
   "mimetype": "text/x-python",
   "name": "python",
   "nbconvert_exporter": "python",
   "pygments_lexer": "ipython3",
   "version": "3.7.11"
  }
 },
 "nbformat": 4,
 "nbformat_minor": 1
}
